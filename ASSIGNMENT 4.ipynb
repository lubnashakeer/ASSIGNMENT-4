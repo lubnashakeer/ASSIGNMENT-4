{
 "cells": [
  {
   "cell_type": "markdown",
   "id": "0865c806",
   "metadata": {},
   "source": [
    "# Scrape the details of most viewed videos on YouTube from Wikipedia."
   ]
  },
  {
   "cell_type": "code",
   "execution_count": 1,
   "id": "ed57a7b3",
   "metadata": {},
   "outputs": [],
   "source": [
    "import selenium\n",
    "from selenium import webdriver\n",
    "import pandas as pd\n",
    "from selenium.webdriver.common.by import By  # importing inbuilt class By\n",
    "import warnings\n",
    "warnings.filterwarnings(\"ignore\")\n",
    "import time"
   ]
  },
  {
   "cell_type": "code",
   "execution_count": 10,
   "id": "25f6adca",
   "metadata": {},
   "outputs": [],
   "source": [
    "driver=webdriver.Chrome(r'C:\\Users\\Admin\\Downloads\\chromedriver_win32 (1)\\chromedriver.exe')"
   ]
  },
  {
   "cell_type": "code",
   "execution_count": 11,
   "id": "c46ae1e9",
   "metadata": {},
   "outputs": [],
   "source": [
    "driver.maximize_window()"
   ]
  },
  {
   "cell_type": "code",
   "execution_count": 12,
   "id": "435a0797",
   "metadata": {},
   "outputs": [],
   "source": [
    "url='https://en.wikipedia.org/wiki/List_of_most-viewed_YouTube_videos'\n",
    "driver.get(url)"
   ]
  },
  {
   "cell_type": "code",
   "execution_count": 13,
   "id": "00568216",
   "metadata": {},
   "outputs": [
    {
     "data": {
      "text/plain": [
       "1"
      ]
     },
     "execution_count": 13,
     "metadata": {},
     "output_type": "execute_result"
    }
   ],
   "source": [
    "rank=[]\n",
    "rank_tags=driver.find_elements(By.XPATH,\"/html/body/div[2]/div/div[3]/main/div[3]/div[3]/div[1]/table[2]/tbody/tr[1]/td[1]\")\n",
    "for i in rank_tags:\n",
    "    rank.append(i.text)\n",
    "len(rank)"
   ]
  },
  {
   "cell_type": "code",
   "execution_count": 14,
   "id": "790faab6",
   "metadata": {},
   "outputs": [
    {
     "data": {
      "text/plain": [
       "['1.']"
      ]
     },
     "execution_count": 14,
     "metadata": {},
     "output_type": "execute_result"
    }
   ],
   "source": [
    "rank"
   ]
  },
  {
   "cell_type": "code",
   "execution_count": 15,
   "id": "281ae7ac",
   "metadata": {},
   "outputs": [
    {
     "data": {
      "text/plain": [
       "1"
      ]
     },
     "execution_count": 15,
     "metadata": {},
     "output_type": "execute_result"
    }
   ],
   "source": [
    "name=[]\n",
    "name_tags=driver.find_elements(By.XPATH,\"/html/body/div[2]/div/div[3]/main/div[3]/div[3]/div[1]/table[2]/tbody/tr[1]/td[2]/a\")\n",
    "for i in name_tags:\n",
    "    name.append(i.text)\n",
    "len(name)"
   ]
  },
  {
   "cell_type": "code",
   "execution_count": 16,
   "id": "76b34b2d",
   "metadata": {},
   "outputs": [
    {
     "data": {
      "text/plain": [
       "['Baby Shark Dance']"
      ]
     },
     "execution_count": 16,
     "metadata": {},
     "output_type": "execute_result"
    }
   ],
   "source": [
    "name"
   ]
  },
  {
   "cell_type": "code",
   "execution_count": 17,
   "id": "c962cb62",
   "metadata": {},
   "outputs": [
    {
     "data": {
      "text/plain": [
       "1"
      ]
     },
     "execution_count": 17,
     "metadata": {},
     "output_type": "execute_result"
    }
   ],
   "source": [
    "artist=[]\n",
    "artist_tags=driver.find_elements(By.XPATH,\"/html/body/div[2]/div/div[3]/main/div[3]/div[3]/div[1]/table[2]/tbody/tr[1]/td[3]/a\")\n",
    "for i in artist_tags:\n",
    "    artist.append(i.text)\n",
    "len(artist)"
   ]
  },
  {
   "cell_type": "code",
   "execution_count": 18,
   "id": "61836009",
   "metadata": {},
   "outputs": [
    {
     "data": {
      "text/plain": [
       "[\"Pinkfong Baby Shark - Kids' Songs & Stories\"]"
      ]
     },
     "execution_count": 18,
     "metadata": {},
     "output_type": "execute_result"
    }
   ],
   "source": [
    "artist"
   ]
  },
  {
   "cell_type": "code",
   "execution_count": 19,
   "id": "cea4d550",
   "metadata": {},
   "outputs": [
    {
     "data": {
      "text/plain": [
       "1"
      ]
     },
     "execution_count": 19,
     "metadata": {},
     "output_type": "execute_result"
    }
   ],
   "source": [
    "upload_date=[]\n",
    "upload_date_tags=driver.find_elements(By.XPATH,\"/html/body/div[2]/div/div[3]/main/div[3]/div[3]/div[1]/table[2]/tbody/tr[1]/td[5]\")\n",
    "for i in upload_date_tags:\n",
    "    upload_date.append(i.text)\n",
    "len(upload_date)"
   ]
  },
  {
   "cell_type": "code",
   "execution_count": 24,
   "id": "0c7054a2",
   "metadata": {},
   "outputs": [
    {
     "data": {
      "text/plain": [
       "['June 17, 2016']"
      ]
     },
     "execution_count": 24,
     "metadata": {},
     "output_type": "execute_result"
    }
   ],
   "source": [
    "upload_date"
   ]
  },
  {
   "cell_type": "code",
   "execution_count": 21,
   "id": "be9bbc1a",
   "metadata": {},
   "outputs": [
    {
     "data": {
      "text/plain": [
       "1"
      ]
     },
     "execution_count": 21,
     "metadata": {},
     "output_type": "execute_result"
    }
   ],
   "source": [
    "views=[]\n",
    "views_tags=driver.find_elements(By.XPATH,\"/html/body/div[2]/div/div[3]/main/div[3]/div[3]/div[1]/table[2]/tbody/tr[1]/td[4]\")\n",
    "for i in views_tags:\n",
    "    views.append(i.text)\n",
    "len(views)"
   ]
  },
  {
   "cell_type": "code",
   "execution_count": 22,
   "id": "b0102488",
   "metadata": {
    "scrolled": true
   },
   "outputs": [
    {
     "data": {
      "text/plain": [
       "['12.85']"
      ]
     },
     "execution_count": 22,
     "metadata": {},
     "output_type": "execute_result"
    }
   ],
   "source": [
    "views"
   ]
  },
  {
   "cell_type": "code",
   "execution_count": 26,
   "id": "a58752f4",
   "metadata": {},
   "outputs": [
    {
     "name": "stdout",
     "output_type": "stream",
     "text": [
      "Rank: 1.\n",
      "Name: \"Baby Shark Dance\"[4]\n",
      "Artist: Pinkfong Baby Shark - Kids' Songs & Stories\n",
      "Upload Date: [A]\n",
      "Views: 12.85\n",
      "Rank: 2.\n",
      "Name: \"Despacito\"[7]\n",
      "Artist: Luis Fonsi\n",
      "Upload Date: [B]\n",
      "Views: 8.16\n",
      "Rank: 3.\n",
      "Name: \"Johny Johny Yes Papa\"[14]\n",
      "Artist: LooLoo Kids\n",
      "Upload Date: \n",
      "Views: 6.70\n",
      "Rank: 4.\n",
      "Name: \"Bath Song\"[15]\n",
      "Artist: Cocomelon – Nursery Rhymes\n",
      "Upload Date: \n",
      "Views: 6.20\n",
      "Rank: 5.\n",
      "Name: \"Shape of You\"[16]\n",
      "Artist: Ed Sheeran\n",
      "Upload Date: [C]\n",
      "Views: 6.00\n",
      "Rank: 6.\n",
      "Name: \"See You Again\"[19]\n",
      "Artist: Wiz Khalifa\n",
      "Upload Date: [D]\n",
      "Views: 5.89\n",
      "Rank: 7.\n",
      "Name: \"Phonics Song with Two Words\"[24]\n",
      "Artist: ChuChu TV\n",
      "Upload Date: \n",
      "Views: 5.30\n",
      "Rank: 8.\n",
      "Name: \"Wheels on the Bus\"[25]\n",
      "Artist: Cocomelon – Nursery Rhymes\n",
      "Upload Date: \n",
      "Views: 5.24\n",
      "Rank: 9.\n",
      "Name: \"Uptown Funk\"[26]\n",
      "Artist: Mark Ronson\n",
      "Upload Date: \n",
      "Views: 4.92\n",
      "Rank: 10.\n",
      "Name: \"Learning Colors – Colorful Eggs on a Farm\"[27]\n",
      "Artist: Miroshka TV\n",
      "Upload Date: \n",
      "Views: 4.89\n",
      "Rank: 11.\n",
      "Name: \"Gangnam Style\"[28]\n",
      "Artist: Psy\n",
      "Upload Date: [E]\n",
      "Views: 4.80\n",
      "Rank: 12.\n",
      "Name: \"Masha and the Bear – Recipe for Disaster\"[33]\n",
      "Artist: Get Movies\n",
      "Upload Date: \n",
      "Views: 4.55\n",
      "Rank: 13.\n",
      "Name: \"Dame Tu Cosita\"[34]\n",
      "Artist: El Chombo\n",
      "Upload Date: \n",
      "Views: 4.35\n",
      "Rank: 14.\n",
      "Name: \"Axel F\"[35]\n",
      "Artist: Crazy Frog\n",
      "Upload Date: \n",
      "Views: 3.91\n",
      "Rank: 15.\n",
      "Name: \"Sugar\"[36]\n",
      "Artist: Maroon 5\n",
      "Upload Date: \n",
      "Views: 3.87\n",
      "Rank: 16.\n",
      "Name: \"Roar\"[37]\n",
      "Artist: Katy Perry\n",
      "Upload Date: \n",
      "Views: 3.80\n",
      "Rank: 17.\n",
      "Name: \"Counting Stars\"[38]\n",
      "Artist: OneRepublic\n",
      "Upload Date: \n",
      "Views: 3.79\n",
      "Rank: 18.\n",
      "Name: \"Sorry\"[39]\n",
      "Artist: Justin Bieber\n",
      "Upload Date: \n",
      "Views: 3.66\n",
      "Rank: 19.\n",
      "Name: \"Baa Baa Black Sheep\"[40]\n",
      "Artist: Cocomelon – Nursery Rhymes\n",
      "Upload Date: \n",
      "Views: 3.64\n",
      "Rank: 20.\n",
      "Name: \"Thinking Out Loud\"[41]\n",
      "Artist: Ed Sheeran\n",
      "Upload Date: \n",
      "Views: 3.60\n",
      "Rank: 21.\n",
      "Name: \"Waka Waka (This Time for Africa)\"[42]\n",
      "Artist: Shakira\n",
      "Upload Date: \n",
      "Views: 3.59\n",
      "Rank: 22.\n",
      "Name: \"Dark Horse\"[43]\n",
      "Artist: Katy Perry\n",
      "Upload Date: \n",
      "Views: 3.52\n",
      "Rank: 23.\n",
      "Name: \"Lakdi Ki Kathi\"[44]\n",
      "Artist: Jingle Toons\n",
      "Upload Date: \n",
      "Views: 3.48\n",
      "Rank: 24.\n",
      "Name: \"Faded\"[45]\n",
      "Artist: Alan Walker\n",
      "Upload Date: \n",
      "Views: 3.45\n",
      "Rank: 25.\n",
      "Name: \"Perfect\"[46]\n",
      "Artist: Ed Sheeran\n",
      "Upload Date: \n",
      "Views: 3.45\n",
      "Rank: 26.\n",
      "Name: \"Let Her Go\"[47]\n",
      "Artist: Passenger\n",
      "Upload Date: \n",
      "Views: 3.44\n",
      "Rank: 27.\n",
      "Name: \"Girls Like You\"[48]\n",
      "Artist: Maroon 5\n",
      "Upload Date: \n",
      "Views: 3.42\n",
      "Rank: 28.\n",
      "Name: \"Humpty the train on a fruits ride\"[49]\n",
      "Artist: Kiddiestv Hindi – Nursery Rhymes & Kids Songs\n",
      "Upload Date: \n",
      "Views: 3.41\n",
      "Rank: 29.\n",
      "Name: \"Lean On\"[50]\n",
      "Artist: Major Lazer\n",
      "Upload Date: \n",
      "Views: 3.38\n",
      "Rank: 30.\n",
      "Name: \"Bailando\"[51]\n",
      "Artist: Enrique Iglesias\n",
      "Upload Date: \n",
      "Views: 3.38\n"
     ]
    },
    {
     "ename": "IndexError",
     "evalue": "list index out of range",
     "output_type": "error",
     "traceback": [
      "\u001b[1;31m---------------------------------------------------------------------------\u001b[0m",
      "\u001b[1;31mIndexError\u001b[0m                                Traceback (most recent call last)",
      "\u001b[1;32m~\\AppData\\Local\\Temp\\ipykernel_9076\\3202086479.py\u001b[0m in \u001b[0;36m<module>\u001b[1;34m\u001b[0m\n\u001b[0;32m      9\u001b[0m \u001b[1;32mfor\u001b[0m \u001b[0mrow\u001b[0m \u001b[1;32min\u001b[0m \u001b[0mrows\u001b[0m\u001b[1;33m:\u001b[0m\u001b[1;33m\u001b[0m\u001b[1;33m\u001b[0m\u001b[0m\n\u001b[0;32m     10\u001b[0m     \u001b[0mcells\u001b[0m \u001b[1;33m=\u001b[0m \u001b[0mrow\u001b[0m\u001b[1;33m.\u001b[0m\u001b[0mfind_all\u001b[0m\u001b[1;33m(\u001b[0m\u001b[1;34m\"td\"\u001b[0m\u001b[1;33m)\u001b[0m\u001b[1;33m\u001b[0m\u001b[1;33m\u001b[0m\u001b[0m\n\u001b[1;32m---> 11\u001b[1;33m     \u001b[0mrank\u001b[0m \u001b[1;33m=\u001b[0m \u001b[0mcells\u001b[0m\u001b[1;33m[\u001b[0m\u001b[1;36m0\u001b[0m\u001b[1;33m]\u001b[0m\u001b[1;33m.\u001b[0m\u001b[0mtext\u001b[0m\u001b[1;33m.\u001b[0m\u001b[0mstrip\u001b[0m\u001b[1;33m(\u001b[0m\u001b[1;33m)\u001b[0m\u001b[1;33m\u001b[0m\u001b[1;33m\u001b[0m\u001b[0m\n\u001b[0m\u001b[0;32m     12\u001b[0m     \u001b[0mname\u001b[0m \u001b[1;33m=\u001b[0m \u001b[0mcells\u001b[0m\u001b[1;33m[\u001b[0m\u001b[1;36m1\u001b[0m\u001b[1;33m]\u001b[0m\u001b[1;33m.\u001b[0m\u001b[0mtext\u001b[0m\u001b[1;33m.\u001b[0m\u001b[0mstrip\u001b[0m\u001b[1;33m(\u001b[0m\u001b[1;33m)\u001b[0m\u001b[1;33m\u001b[0m\u001b[1;33m\u001b[0m\u001b[0m\n\u001b[0;32m     13\u001b[0m     \u001b[0martist\u001b[0m \u001b[1;33m=\u001b[0m \u001b[0mcells\u001b[0m\u001b[1;33m[\u001b[0m\u001b[1;36m2\u001b[0m\u001b[1;33m]\u001b[0m\u001b[1;33m.\u001b[0m\u001b[0mtext\u001b[0m\u001b[1;33m.\u001b[0m\u001b[0mstrip\u001b[0m\u001b[1;33m(\u001b[0m\u001b[1;33m)\u001b[0m\u001b[1;33m\u001b[0m\u001b[1;33m\u001b[0m\u001b[0m\n",
      "\u001b[1;31mIndexError\u001b[0m: list index out of range"
     ]
    }
   ],
   "source": [
    "from bs4 import BeautifulSoup\n",
    "import requests\n",
    "url = \"https://en.wikipedia.org/wiki/List_of_most-viewed_YouTube_videos\"\n",
    "response = requests.get(url)\n",
    "soup = BeautifulSoup(response.content, \"html.parser\")\n",
    "table = soup.find(\"table\", {\"class\": \"wikitable sortable\"})\n",
    "rows = table.find_all(\"tr\")\n",
    "rows = rows[1:]\n",
    "for row in rows:\n",
    "    cells = row.find_all(\"td\")\n",
    "    rank = cells[0].text.strip()\n",
    "    name = cells[1].text.strip()\n",
    "    artist = cells[2].text.strip()\n",
    "    upload_date = cells[5].text.strip()\n",
    "    views = cells[3].text.strip().replace(\",\", \"\")\n",
    "    \n",
    "    print(\"Rank:\", rank)\n",
    "    print(\"Name:\", name)\n",
    "    print(\"Artist:\", artist)\n",
    "    print(\"Upload Date:\", upload_date)\n",
    "    print(\"Views:\", views)"
   ]
  },
  {
   "cell_type": "markdown",
   "id": "ce4633a2",
   "metadata": {},
   "source": [
    "# Scrape the details team India’s international fixtures from bcci.tv."
   ]
  },
  {
   "cell_type": "code",
   "execution_count": 15,
   "id": "1268fa1d",
   "metadata": {},
   "outputs": [],
   "source": [
    "driver=webdriver.Chrome(r'C:\\Users\\Admin\\Downloads\\chromedriver_win32 (1)\\chromedriver.exe')"
   ]
  },
  {
   "cell_type": "code",
   "execution_count": 16,
   "id": "dac48a93",
   "metadata": {},
   "outputs": [],
   "source": [
    "driver.maximize_window()"
   ]
  },
  {
   "cell_type": "code",
   "execution_count": 17,
   "id": "e9ecbda9",
   "metadata": {},
   "outputs": [],
   "source": [
    "url='https://www.bcci.tv/.'\n",
    "driver.get(url)"
   ]
  },
  {
   "cell_type": "code",
   "execution_count": 20,
   "id": "cf8785a7",
   "metadata": {},
   "outputs": [],
   "source": [
    "search_btn=driver.find_element(By.XPATH,\"/html/body/nav/div[1]/div[2]/ul[1]/li[2]/a\")\n",
    "search_btn.click()"
   ]
  },
  {
   "cell_type": "code",
   "execution_count": 21,
   "id": "97294929",
   "metadata": {},
   "outputs": [],
   "source": [
    "search_btn=driver.find_element(By.XPATH,\"/html/body/div[2]/div[2]/div/div/div/div[2]/div[2]/div/div[3]/div/div[1]\")\n",
    "search_btn.click()"
   ]
  },
  {
   "cell_type": "code",
   "execution_count": 25,
   "id": "c2e9b9bc",
   "metadata": {},
   "outputs": [
    {
     "data": {
      "text/plain": [
       "3"
      ]
     },
     "execution_count": 25,
     "metadata": {},
     "output_type": "execute_result"
    }
   ],
   "source": [
    "title_date_time=[]\n",
    "title_date_time_tags=driver.find_elements(By.XPATH,\"//div[@class='match-card-top']\")\n",
    "for i in title_date_time_tags:\n",
    "    title_date_time.append(i.text)\n",
    "len(title_date_time)"
   ]
  },
  {
   "cell_type": "code",
   "execution_count": 26,
   "id": "78366e1b",
   "metadata": {},
   "outputs": [
    {
     "data": {
      "text/plain": [
       "['WOMENS EMERGING TEAMS ASIA CUP 2023\\n12 JUN 2023\\n10:30 PM PDT',\n",
       " 'WOMENS EMERGING TEAMS ASIA CUP 2023\\n14 JUN 2023\\n10:30 PM PDT',\n",
       " 'WOMENS EMERGING TEAMS ASIA CUP 2023\\n16 JUN 2023\\n10:30 PM PDT']"
      ]
     },
     "execution_count": 26,
     "metadata": {},
     "output_type": "execute_result"
    }
   ],
   "source": [
    "title_date_time"
   ]
  },
  {
   "cell_type": "code",
   "execution_count": 29,
   "id": "60790203",
   "metadata": {},
   "outputs": [
    {
     "data": {
      "text/plain": [
       "3"
      ]
     },
     "execution_count": 29,
     "metadata": {},
     "output_type": "execute_result"
    }
   ],
   "source": [
    "place=[]\n",
    "place_tags=driver.find_elements(By.XPATH,\"//div[@class='match-place ng-scope']\")\n",
    "for i in place_tags:\n",
    "    place.append(i.text)\n",
    "len(place)"
   ]
  },
  {
   "cell_type": "code",
   "execution_count": 30,
   "id": "940b6106",
   "metadata": {},
   "outputs": [
    {
     "data": {
      "text/plain": [
       "['4th T20I - Tin Kwong Road Recreation Ground, Hong Kong',\n",
       " '8th T20I - Tin Kwong Road Recreation Ground, Hong Kong',\n",
       " '12th T20I - Tin Kwong Road Recreation Ground, Hong Kong']"
      ]
     },
     "execution_count": 30,
     "metadata": {},
     "output_type": "execute_result"
    }
   ],
   "source": [
    "place"
   ]
  },
  {
   "cell_type": "code",
   "execution_count": 31,
   "id": "ca9e043f",
   "metadata": {},
   "outputs": [
    {
     "data": {
      "text/html": [
       "<div>\n",
       "<style scoped>\n",
       "    .dataframe tbody tr th:only-of-type {\n",
       "        vertical-align: middle;\n",
       "    }\n",
       "\n",
       "    .dataframe tbody tr th {\n",
       "        vertical-align: top;\n",
       "    }\n",
       "\n",
       "    .dataframe thead th {\n",
       "        text-align: right;\n",
       "    }\n",
       "</style>\n",
       "<table border=\"1\" class=\"dataframe\">\n",
       "  <thead>\n",
       "    <tr style=\"text-align: right;\">\n",
       "      <th></th>\n",
       "      <th>TITLE TIME AND DATE</th>\n",
       "      <th>PLACE</th>\n",
       "    </tr>\n",
       "  </thead>\n",
       "  <tbody>\n",
       "    <tr>\n",
       "      <th>0</th>\n",
       "      <td>WOMENS EMERGING TEAMS ASIA CUP 2023\\n12 JUN 20...</td>\n",
       "      <td>4th T20I - Tin Kwong Road Recreation Ground, H...</td>\n",
       "    </tr>\n",
       "    <tr>\n",
       "      <th>1</th>\n",
       "      <td>WOMENS EMERGING TEAMS ASIA CUP 2023\\n14 JUN 20...</td>\n",
       "      <td>8th T20I - Tin Kwong Road Recreation Ground, H...</td>\n",
       "    </tr>\n",
       "    <tr>\n",
       "      <th>2</th>\n",
       "      <td>WOMENS EMERGING TEAMS ASIA CUP 2023\\n16 JUN 20...</td>\n",
       "      <td>12th T20I - Tin Kwong Road Recreation Ground, ...</td>\n",
       "    </tr>\n",
       "  </tbody>\n",
       "</table>\n",
       "</div>"
      ],
      "text/plain": [
       "                                 TITLE TIME AND DATE  \\\n",
       "0  WOMENS EMERGING TEAMS ASIA CUP 2023\\n12 JUN 20...   \n",
       "1  WOMENS EMERGING TEAMS ASIA CUP 2023\\n14 JUN 20...   \n",
       "2  WOMENS EMERGING TEAMS ASIA CUP 2023\\n16 JUN 20...   \n",
       "\n",
       "                                               PLACE  \n",
       "0  4th T20I - Tin Kwong Road Recreation Ground, H...  \n",
       "1  8th T20I - Tin Kwong Road Recreation Ground, H...  \n",
       "2  12th T20I - Tin Kwong Road Recreation Ground, ...  "
      ]
     },
     "execution_count": 31,
     "metadata": {},
     "output_type": "execute_result"
    }
   ],
   "source": [
    "fixture=pd.DataFrame()\n",
    "fixture['TITLE TIME AND DATE']=title_date_time\n",
    "fixture['PLACE']=place\n",
    "fixture"
   ]
  },
  {
   "cell_type": "markdown",
   "id": "605ba890",
   "metadata": {},
   "source": [
    "# Scrape the details of selenium exception from guru99.com."
   ]
  },
  {
   "cell_type": "code",
   "execution_count": 62,
   "id": "af771eab",
   "metadata": {},
   "outputs": [],
   "source": [
    "driver=webdriver.Chrome(r'C:\\Users\\Admin\\Downloads\\chromedriver_win32 (1)\\chromedriver.exe')"
   ]
  },
  {
   "cell_type": "code",
   "execution_count": 63,
   "id": "28561aa8",
   "metadata": {},
   "outputs": [],
   "source": [
    "driver.maximize_window()"
   ]
  },
  {
   "cell_type": "code",
   "execution_count": 64,
   "id": "7069e4d0",
   "metadata": {},
   "outputs": [],
   "source": [
    "url= 'https://www.guru99.com/'\n",
    "driver.get(url)"
   ]
  },
  {
   "cell_type": "code",
   "execution_count": 66,
   "id": "4d9acbcd",
   "metadata": {},
   "outputs": [],
   "source": [
    "search_btn=driver.find_element(By.XPATH,\"/html/body/div[1]/div/div/div/main/div/article/div/div[1]/div[1]/div[2]/div/div[1]/div/div/div/form/table/tbody/tr/td[1]/div/table/tbody/tr/td[1]/input\")\n",
    "search_btn.click()"
   ]
  },
  {
   "cell_type": "code",
   "execution_count": 67,
   "id": "a1c5891f",
   "metadata": {},
   "outputs": [],
   "source": [
    "search_selenium=driver.find_element(By.XPATH,\"/html/body/div[1]/div/div/div/main/div/article/div/div[1]/div[1]/div[2]/div/div[1]/div/div/div/form/table/tbody/tr/td[1]/div/table/tbody/tr/td[1]/input\") # here inspect method is used just like beautoiful soup , we take the class name through inspect method, where class name will be suggestor input for the search bar inspect method\n",
    "search_selenium.send_keys(\"selenium exception\")"
   ]
  },
  {
   "cell_type": "code",
   "execution_count": 68,
   "id": "503137c8",
   "metadata": {},
   "outputs": [],
   "source": [
    "search_btn=driver.find_element(By.CLASS_NAME,\"gsc-search-button\")\n",
    "search_btn.click()"
   ]
  },
  {
   "cell_type": "code",
   "execution_count": 69,
   "id": "979361f0",
   "metadata": {},
   "outputs": [],
   "source": [
    "search_btn=driver.find_element(By.XPATH,\"/html/body/div[1]/div/div/div/main/div/article/div/div[1]/div[1]/div[2]/div/div[1]/div/div/div/div[1]/div[6]/div[2]/div/div/div[1]/div[1]/div[1]/div[1]/div/a\")\n",
    "search_btn.click()"
   ]
  },
  {
   "cell_type": "code",
   "execution_count": 80,
   "id": "98f5ef20",
   "metadata": {},
   "outputs": [
    {
     "data": {
      "text/plain": [
       "3"
      ]
     },
     "execution_count": 80,
     "metadata": {},
     "output_type": "execute_result"
    }
   ],
   "source": [
    "name=[]\n",
    "name_tags=driver.find_elements(By.XPATH,\"/html/body/div[1]/div/div/div/main/div/article/div/div\")\n",
    "for i in name_tags:\n",
    "    name.append(i.text)\n",
    "len(name)"
   ]
  },
  {
   "cell_type": "code",
   "execution_count": 81,
   "id": "5c80d03e",
   "metadata": {
    "scrolled": true
   },
   "outputs": [
    {
     "data": {
      "text/plain": [
       "[\"Guru99 is totally new kind of learning experience.\\nWe make tons of efforts to take boredom out of learning and make it fun\\nSearch for your Favorite Course\\nAbout 720 results (0.20 seconds)\\nSort by:\\nRelevance\\nException Handling in Selenium Webdriver (Types)\\nGuru99 › exception-handling-selenium\\n06-May-2023 ... Types of Exceptions in Selenium Webdriver · 1. ElementNotVisibleException: · 2. ElementNotSelectableException: · 3. NoSuchElementException: · 4.\\nSelenium Wait – Implicit, Explicit and Fluent Waits\\nGuru99 › implicit-explicit-waits-selenium\\n06-May-2023 ... Once we set the time, the web driver will wait for the element for that time before throwing an exception. Selenium Web Driver has borrowed ...\\nTry Catch in Java: Exception Handling Example\\nGuru99 › java-exception-handling\\n13-May-2023 ... In Java, exceptions are mainly used for indicating different types of error conditions. In this tutorial, you will learn-. What is Exception?\\nHow to Handle SSL Certificate in Selenium\\nGuru99 › ssl-certificate-error-handling-selenium\\n08-Apr-2023 ... In such case, we have to adjust our script in such a way that it will take care of SSL Exception by itself. The scripts need to be modified ...\\nHow to Create User Defined Exception in Java\\nGuru99 › java-user-defined-exception\\n15-Apr-2023 ... User Defined Exception or custom exception is creating your own exception class and throw that exception using 'throw' keyword.\\nRobot Class in Selenium Webdriver\\nGuru99 › using-robot-api-selenium\\n20-May-2023 ... Robot Class in Selenium is used to enable automated testing for ... new Robot(); // Robot class throws AWT Exception Thread.sleep(2000); ...\\nJUnit Expected Exception Test: @Test(expected)\\nGuru99 › junit-exception-test\\n22-Apr-2023 ... While Testing exception, you need to ensure that exception class you are providing in that optional parameter of @test annotation is the same.\\nDownload Geckodriver: How to Install Firefox Driver for Selenium\\nGuru99 › gecko-marionette-driver-selenium\\n13-May-2023 ... Before Selenium 3, Mozilla Firefox browser was the default browser ... The resolution for this exception is to update the selenium jar file ...\\nException Handling in VB.Net: Try & Catch Handling Examples\\nGuru99 › try-catch-finally-vb-net\\n29-Apr-2023 ... In this VB.Net Exception Handling tutorial, we will learn What is Exception Handling in VB.Net with Try, Catch, Finally, & Throw Exception ...\\nSelenium Tutorial\\nGuru99 › selenium-tutorial\\n06-May-2023 ... Selenium Tutorial for Beginners: Learn Selenium Basics ✔️ TestNG ... Tutorial, Selenium Exception Handling (Common Exceptions List) ...\\n12345678910\\nSearch for selenium exception on Google\\nTutorials Library\\n\\nTESTING\\n➤ Software Testing\\n➤ QTP (Quick Test Professional)\\n➤ Selenium\\n➤ Mobile App Testing\\nSAP\\n➤ SAP Beginner\\n➤ SAP ABAP\\n➤ SAP HR/HCM\\n➤ SAP FICO\\n➤ SAP Basis\\nAI\\n➤ TensorFlow\\n➤ R Programming\\n➤ NLTK\\n➤ Artificial Intelligence\\nMUST LEARN!\\n➤ Web Development\\n➤ Online Courses\\n➤ Reviews\\n➤ Excel Tutorials\",\n",
       " '',\n",
       " '']"
      ]
     },
     "execution_count": 81,
     "metadata": {},
     "output_type": "execute_result"
    }
   ],
   "source": [
    "name"
   ]
  },
  {
   "cell_type": "markdown",
   "id": "2be45706",
   "metadata": {},
   "source": [
    "# Scrape the details of State-wise GDP of India from statisticstime.com"
   ]
  },
  {
   "cell_type": "code",
   "execution_count": 85,
   "id": "15a4eae7",
   "metadata": {},
   "outputs": [],
   "source": [
    "driver=webdriver.Chrome(r'C:\\Users\\Admin\\Downloads\\chromedriver_win32 (1)\\chromedriver.exe')"
   ]
  },
  {
   "cell_type": "code",
   "execution_count": 86,
   "id": "8d33d3b0",
   "metadata": {},
   "outputs": [],
   "source": [
    "driver.maximize_window()"
   ]
  },
  {
   "cell_type": "code",
   "execution_count": 87,
   "id": "f1a58f80",
   "metadata": {},
   "outputs": [],
   "source": [
    "url= 'http://statisticstimes.com/'\n",
    "driver.get(url)"
   ]
  },
  {
   "cell_type": "code",
   "execution_count": 90,
   "id": "9d7af6b2",
   "metadata": {},
   "outputs": [],
   "source": [
    "search_btn=driver.find_element(By.CLASS_NAME,\"dropbtn\")\n",
    "search_btn.click()"
   ]
  },
  {
   "cell_type": "code",
   "execution_count": 92,
   "id": "08ad7026",
   "metadata": {},
   "outputs": [],
   "source": [
    "search_btn=driver.find_element(By.XPATH,\"/html/body/div[2]/div[2]/div[2]/ul/li[1]/a\")\n",
    "search_btn.click()"
   ]
  },
  {
   "cell_type": "code",
   "execution_count": 95,
   "id": "29f5c9ae",
   "metadata": {},
   "outputs": [
    {
     "data": {
      "text/plain": [
       "68"
      ]
     },
     "execution_count": 95,
     "metadata": {},
     "output_type": "execute_result"
    }
   ],
   "source": [
    "rank=[]\n",
    "rank_tags=driver.find_elements(By.XPATH,\"//td[@class='data1']\")\n",
    "for i in rank_tags:\n",
    "    rank.append(i.text)\n",
    "len(rank)"
   ]
  },
  {
   "cell_type": "code",
   "execution_count": 96,
   "id": "d73b28f1",
   "metadata": {},
   "outputs": [
    {
     "data": {
      "text/plain": [
       "['1',\n",
       " '2',\n",
       " '3',\n",
       " '4',\n",
       " '5',\n",
       " '6',\n",
       " '7',\n",
       " '8',\n",
       " '9',\n",
       " '10',\n",
       " '11',\n",
       " '12',\n",
       " '13',\n",
       " '14',\n",
       " '15',\n",
       " '16',\n",
       " '17',\n",
       " '18',\n",
       " '19',\n",
       " '20',\n",
       " '21',\n",
       " '22',\n",
       " '23',\n",
       " '24',\n",
       " '25',\n",
       " '26',\n",
       " '27',\n",
       " '28',\n",
       " '29',\n",
       " '30',\n",
       " '31',\n",
       " '32',\n",
       " '33',\n",
       " '',\n",
       " '1',\n",
       " '2',\n",
       " '3',\n",
       " '4',\n",
       " '5',\n",
       " '6',\n",
       " '7',\n",
       " '8',\n",
       " '9',\n",
       " '10',\n",
       " '11',\n",
       " '12',\n",
       " '13',\n",
       " '14',\n",
       " '15',\n",
       " '16',\n",
       " '17',\n",
       " '18',\n",
       " '19',\n",
       " '20',\n",
       " '21',\n",
       " '22',\n",
       " '23',\n",
       " '24',\n",
       " '25',\n",
       " '26',\n",
       " '27',\n",
       " '28',\n",
       " '29',\n",
       " '30',\n",
       " '31',\n",
       " '32',\n",
       " '33',\n",
       " '']"
      ]
     },
     "execution_count": 96,
     "metadata": {},
     "output_type": "execute_result"
    }
   ],
   "source": [
    "rank"
   ]
  },
  {
   "cell_type": "code",
   "execution_count": 97,
   "id": "faf184cb",
   "metadata": {},
   "outputs": [
    {
     "data": {
      "text/plain": [
       "68"
      ]
     },
     "execution_count": 97,
     "metadata": {},
     "output_type": "execute_result"
    }
   ],
   "source": [
    "state=[]\n",
    "state_tags=driver.find_elements(By.XPATH,\"//td[@class='name']\")\n",
    "for i in state_tags:\n",
    "    state.append(i.text)\n",
    "len(state)"
   ]
  },
  {
   "cell_type": "code",
   "execution_count": 98,
   "id": "4d27d336",
   "metadata": {},
   "outputs": [
    {
     "data": {
      "text/plain": [
       "['Maharashtra',\n",
       " 'Tamil Nadu',\n",
       " 'Uttar Pradesh',\n",
       " 'Gujarat',\n",
       " 'Karnataka',\n",
       " 'West Bengal',\n",
       " 'Rajasthan',\n",
       " 'Andhra Pradesh',\n",
       " 'Telangana',\n",
       " 'Madhya Pradesh',\n",
       " 'Kerala',\n",
       " 'Delhi',\n",
       " 'Haryana',\n",
       " 'Bihar',\n",
       " 'Punjab',\n",
       " 'Odisha',\n",
       " 'Assam',\n",
       " 'Chhattisgarh',\n",
       " 'Jharkhand',\n",
       " 'Uttarakhand',\n",
       " 'Jammu & Kashmir',\n",
       " 'Himachal Pradesh',\n",
       " 'Goa',\n",
       " 'Tripura',\n",
       " 'Chandigarh',\n",
       " 'Puducherry',\n",
       " 'Meghalaya',\n",
       " 'Sikkim',\n",
       " 'Manipur',\n",
       " 'Nagaland',\n",
       " 'Arunachal Pradesh',\n",
       " 'Mizoram',\n",
       " 'Andaman & Nicobar Islands',\n",
       " 'India',\n",
       " 'Maharashtra',\n",
       " 'Tamil Nadu',\n",
       " 'Uttar Pradesh',\n",
       " 'Karnataka',\n",
       " 'Gujarat',\n",
       " 'West Bengal',\n",
       " 'Rajasthan',\n",
       " 'Telangana',\n",
       " 'Andhra Pradesh',\n",
       " 'Madhya Pradesh',\n",
       " 'Kerala',\n",
       " 'Delhi',\n",
       " 'Haryana',\n",
       " 'Bihar',\n",
       " 'Punjab',\n",
       " 'Odisha',\n",
       " 'Assam',\n",
       " 'Jharkhand',\n",
       " 'Chhattisgarh',\n",
       " 'Uttarakhand',\n",
       " 'Himachal Pradesh',\n",
       " 'Jammu & Kashmir',\n",
       " 'Goa',\n",
       " 'Tripura',\n",
       " 'Chandigarh',\n",
       " 'Puducherry',\n",
       " 'Meghalaya',\n",
       " 'Manipur',\n",
       " 'Sikkim',\n",
       " 'Nagaland',\n",
       " 'Arunachal Pradesh',\n",
       " 'Mizoram',\n",
       " 'Andaman & Nicobar Islands',\n",
       " 'India']"
      ]
     },
     "execution_count": 98,
     "metadata": {},
     "output_type": "execute_result"
    }
   ],
   "source": [
    "state"
   ]
  },
  {
   "cell_type": "code",
   "execution_count": 101,
   "id": "c52211a2",
   "metadata": {},
   "outputs": [
    {
     "data": {
      "text/plain": [
       "66"
      ]
     },
     "execution_count": 101,
     "metadata": {},
     "output_type": "execute_result"
    }
   ],
   "source": [
    "gsdp=[]\n",
    "gsdp_tags=driver.find_elements(By.XPATH,\"//td[@class='data sorting_1']\")\n",
    "for i in gsdp_tags:\n",
    "    gsdp.append(i.text)\n",
    "len(gsdp)"
   ]
  },
  {
   "cell_type": "code",
   "execution_count": 102,
   "id": "13b08959",
   "metadata": {},
   "outputs": [
    {
     "data": {
      "text/plain": [
       "['2,632,792',\n",
       " '1,630,208',\n",
       " '1,584,764',\n",
       " '1,502,899',\n",
       " '1,493,127',\n",
       " '1,089,898',\n",
       " '942,586',\n",
       " '862,957',\n",
       " '861,031',\n",
       " '809,592',\n",
       " '781,653',\n",
       " '774,870',\n",
       " '734,163',\n",
       " '530,363',\n",
       " '526,376',\n",
       " '487,805',\n",
       " '315,881',\n",
       " '304,063',\n",
       " '297,204',\n",
       " '245,895',\n",
       " '155,956',\n",
       " '153,845',\n",
       " '73,170',\n",
       " '49,845',\n",
       " '42,114',\n",
       " '34,433',\n",
       " '33,481',\n",
       " '28,723',\n",
       " '27,870',\n",
       " '27,283',\n",
       " '24,603',\n",
       " '22,287',\n",
       " '-',\n",
       " '2,332,992',\n",
       " '1,465,361',\n",
       " '1,404,761',\n",
       " '1,351,553',\n",
       " '1,322,936',\n",
       " '995,502',\n",
       " '845,247',\n",
       " '782,370',\n",
       " '776,140',\n",
       " '737,156',\n",
       " '707,542',\n",
       " '704,529',\n",
       " '666,075',\n",
       " '486,776',\n",
       " '472,506',\n",
       " '428,031',\n",
       " '282,782',\n",
       " '271,990',\n",
       " '266,537',\n",
       " '221,871',\n",
       " '133,303',\n",
       " '129,877',\n",
       " '66,060',\n",
       " '44,835',\n",
       " '37,571',\n",
       " '31,415',\n",
       " '29,544',\n",
       " '25,323',\n",
       " '25,141',\n",
       " '24,534',\n",
       " '22,488',\n",
       " '20,947',\n",
       " '-']"
      ]
     },
     "execution_count": 102,
     "metadata": {},
     "output_type": "execute_result"
    }
   ],
   "source": [
    "gsdp"
   ]
  },
  {
   "cell_type": "code",
   "execution_count": 105,
   "id": "e02769d1",
   "metadata": {},
   "outputs": [
    {
     "data": {
      "text/plain": [
       "308"
      ]
     },
     "execution_count": 105,
     "metadata": {},
     "output_type": "execute_result"
    }
   ],
   "source": [
    "gsdp2=[]\n",
    "gsdp2_tags=driver.find_elements(By.XPATH,\"//td[@class='data']\")\n",
    "for i in gsdp2_tags:\n",
    "    gsdp2.append(i.text)\n",
    "len(gsdp2)"
   ]
  },
  {
   "cell_type": "code",
   "execution_count": 104,
   "id": "efe87706",
   "metadata": {},
   "outputs": [
    {
     "data": {
      "text/plain": [
       "['-',\n",
       " '13.94%',\n",
       " '399.921',\n",
       " '-',\n",
       " '2,039,074',\n",
       " '1,845,853',\n",
       " '8.63%',\n",
       " '247.629',\n",
       " '1,312,929',\n",
       " '1,215,307',\n",
       " '1,687,818',\n",
       " '8.39%',\n",
       " '240.726',\n",
       " '1,166,817',\n",
       " '1,123,982',\n",
       " '-',\n",
       " '7.96%',\n",
       " '228.290',\n",
       " '-',\n",
       " '1,186,379',\n",
       " '1,631,977',\n",
       " '7.91%',\n",
       " '226.806',\n",
       " '1,156,039',\n",
       " '1,091,077',\n",
       " '1,253,832',\n",
       " '5.77%',\n",
       " '165.556',\n",
       " '793,223',\n",
       " '739,525',\n",
       " '1,020,989',\n",
       " '4.99%',\n",
       " '143.179',\n",
       " '711,627',\n",
       " '677,428',\n",
       " '972,782',\n",
       " '4.57%',\n",
       " '131.083',\n",
       " '672,018',\n",
       " '621,301',\n",
       " '969,604',\n",
       " '4.56%',\n",
       " '130.791',\n",
       " '663,258',\n",
       " '612,828',\n",
       " '906,672',\n",
       " '4.29%',\n",
       " '122.977',\n",
       " '561,801',\n",
       " '522,009',\n",
       " '-',\n",
       " '4.14%',\n",
       " '118.733',\n",
       " '-',\n",
       " '559,412',\n",
       " '856,112',\n",
       " '4.10%',\n",
       " '117.703',\n",
       " '634,408',\n",
       " '590,569',\n",
       " '831,610',\n",
       " '3.89%',\n",
       " '111.519',\n",
       " '572,240',\n",
       " '531,085',\n",
       " '611,804',\n",
       " '2.81%',\n",
       " '80.562',\n",
       " '414,977',\n",
       " '375,651',\n",
       " '574,760',\n",
       " '2.79%',\n",
       " '79.957',\n",
       " '418,868',\n",
       " '397,669',\n",
       " '521,275',\n",
       " '2.58%',\n",
       " '74.098',\n",
       " '396,499',\n",
       " '376,877',\n",
       " '-',\n",
       " '1.67%',\n",
       " '47.982',\n",
       " '-',\n",
       " '234,048',\n",
       " '329,180',\n",
       " '1.61%',\n",
       " '46.187',\n",
       " '243,477',\n",
       " '231,182',\n",
       " '328,598',\n",
       " '1.57%',\n",
       " '45.145',\n",
       " '240,036',\n",
       " '224,986',\n",
       " '-',\n",
       " '1.30%',\n",
       " '37.351',\n",
       " '-',\n",
       " '193,273',\n",
       " '-',\n",
       " '0.83%',\n",
       " '23.690',\n",
       " '-',\n",
       " '112,755',\n",
       " '165,472',\n",
       " '0.81%',\n",
       " '23.369',\n",
       " '124,403',\n",
       " '117,851',\n",
       " '80,449',\n",
       " '0.39%',\n",
       " '11.115',\n",
       " '63,408',\n",
       " '57,787',\n",
       " '55,984',\n",
       " '0.26%',\n",
       " '7.571',\n",
       " '40,583',\n",
       " '36,963',\n",
       " '-',\n",
       " '0.22%',\n",
       " '6.397',\n",
       " '-',\n",
       " '31,192',\n",
       " '38,253',\n",
       " '0.18%',\n",
       " '5.230',\n",
       " '25,093',\n",
       " '23,013',\n",
       " '36,572',\n",
       " '0.18%',\n",
       " '5.086',\n",
       " '26,695',\n",
       " '24,682',\n",
       " '32,496',\n",
       " '0.15%',\n",
       " '4.363',\n",
       " '20,017',\n",
       " '18,722',\n",
       " '31,790',\n",
       " '0.15%',\n",
       " '4.233',\n",
       " '20,673',\n",
       " '19,300',\n",
       " '-',\n",
       " '0.14%',\n",
       " '4.144',\n",
       " '-',\n",
       " '17,647',\n",
       " '-',\n",
       " '0.13%',\n",
       " '3.737',\n",
       " '-',\n",
       " '16,676',\n",
       " '26,503',\n",
       " '0.12%',\n",
       " '3.385',\n",
       " '18,797',\n",
       " '16,478',\n",
       " '-',\n",
       " '-',\n",
       " '-',\n",
       " '-',\n",
       " '-',\n",
       " '20,351,013',\n",
       " '18,886,957',\n",
       " '',\n",
       " '2,869',\n",
       " '14,569,268',\n",
       " '14,003,316',\n",
       " '-',\n",
       " '13.97%',\n",
       " '-',\n",
       " '1,794,123',\n",
       " '1,659,210',\n",
       " '8.77%',\n",
       " '1,167,776',\n",
       " '1,079,894',\n",
       " '1,495,758',\n",
       " '8.41%',\n",
       " '1,015,735',\n",
       " '979,159',\n",
       " '1,476,983',\n",
       " '8.09%',\n",
       " '1,035,131',\n",
       " '976,948',\n",
       " '-',\n",
       " '7.92%',\n",
       " '-',\n",
       " '1,036,859',\n",
       " '1,150,711',\n",
       " '5.96%',\n",
       " '713,376',\n",
       " '662,432',\n",
       " '916,014',\n",
       " '5.06%',\n",
       " '630,693',\n",
       " '600,433',\n",
       " '881,873',\n",
       " '4.68%',\n",
       " '594,806',\n",
       " '549,481',\n",
       " '875,429',\n",
       " '4.65%',\n",
       " '595,605',\n",
       " '550,584',\n",
       " '827,019',\n",
       " '4.41%',\n",
       " '496,798',\n",
       " '461,903',\n",
       " '-',\n",
       " '4.24%',\n",
       " '-',\n",
       " '513,322',\n",
       " '779,647',\n",
       " '4.22%',\n",
       " '568,265',\n",
       " '529,739',\n",
       " '755,790',\n",
       " '3.99%',\n",
       " '514,983',\n",
       " '477,834',\n",
       " '562,710',\n",
       " '2.91%',\n",
       " '377,276',\n",
       " '340,512',\n",
       " '517,521',\n",
       " '2.83%',\n",
       " '374,015',\n",
       " '354,830',\n",
       " '457,757',\n",
       " '2.56%',\n",
       " '344,437',\n",
       " '327,805',\n",
       " '-',\n",
       " '1.69%',\n",
       " '-',\n",
       " '207,193',\n",
       " '301,242',\n",
       " '1.63%',\n",
       " '218,232',\n",
       " '204,423',\n",
       " '288,041',\n",
       " '1.60%',\n",
       " '210,837',\n",
       " '200,453',\n",
       " '-',\n",
       " '1.33%',\n",
       " '-',\n",
       " '173,211',\n",
       " '143,063',\n",
       " '0.80%',\n",
       " '107,171',\n",
       " '101,534',\n",
       " '-',\n",
       " '0.78%',\n",
       " '-',\n",
       " '91,666',\n",
       " '72,181',\n",
       " '0.40%',\n",
       " '56,810',\n",
       " '51,878',\n",
       " '50,227',\n",
       " '0.27%',\n",
       " '35,980',\n",
       " '32,830',\n",
       " '-',\n",
       " '0.22%',\n",
       " '-',\n",
       " '27,565',\n",
       " '34,823',\n",
       " '0.19%',\n",
       " '22,291',\n",
       " '20,534',\n",
       " '32,833',\n",
       " '0.18%',\n",
       " '23,564',\n",
       " '21,779',\n",
       " '29,148',\n",
       " '0.15%',\n",
       " '18,549',\n",
       " '17,228',\n",
       " '28,391',\n",
       " '0.15%',\n",
       " '17,060',\n",
       " '15,972',\n",
       " '-',\n",
       " '0.15%',\n",
       " '-',\n",
       " '15,381',\n",
       " '-',\n",
       " '0.13%',\n",
       " '-',\n",
       " '15,013',\n",
       " '24,424',\n",
       " '0.13%',\n",
       " '17,797',\n",
       " '15,372',\n",
       " '-',\n",
       " '-',\n",
       " '-',\n",
       " '-',\n",
       " '17,994,301',\n",
       " '16,704,645',\n",
       " '',\n",
       " '12,681,246',\n",
       " '12,240,380']"
      ]
     },
     "execution_count": 104,
     "metadata": {},
     "output_type": "execute_result"
    }
   ],
   "source": [
    "gsdp2"
   ]
  },
  {
   "cell_type": "code",
   "execution_count": 106,
   "id": "a0921d2f",
   "metadata": {},
   "outputs": [
    {
     "data": {
      "text/plain": [
       "308"
      ]
     },
     "execution_count": 106,
     "metadata": {},
     "output_type": "execute_result"
    }
   ],
   "source": [
    "share=[]\n",
    "share_tags=driver.find_elements(By.XPATH,\"//td[@class='data']\")\n",
    "for i in share_tags:\n",
    "    share.append(i.text)\n",
    "len(share)"
   ]
  },
  {
   "cell_type": "code",
   "execution_count": 107,
   "id": "ceb6a024",
   "metadata": {},
   "outputs": [
    {
     "data": {
      "text/plain": [
       "['-',\n",
       " '13.94%',\n",
       " '399.921',\n",
       " '-',\n",
       " '2,039,074',\n",
       " '1,845,853',\n",
       " '8.63%',\n",
       " '247.629',\n",
       " '1,312,929',\n",
       " '1,215,307',\n",
       " '1,687,818',\n",
       " '8.39%',\n",
       " '240.726',\n",
       " '1,166,817',\n",
       " '1,123,982',\n",
       " '-',\n",
       " '7.96%',\n",
       " '228.290',\n",
       " '-',\n",
       " '1,186,379',\n",
       " '1,631,977',\n",
       " '7.91%',\n",
       " '226.806',\n",
       " '1,156,039',\n",
       " '1,091,077',\n",
       " '1,253,832',\n",
       " '5.77%',\n",
       " '165.556',\n",
       " '793,223',\n",
       " '739,525',\n",
       " '1,020,989',\n",
       " '4.99%',\n",
       " '143.179',\n",
       " '711,627',\n",
       " '677,428',\n",
       " '972,782',\n",
       " '4.57%',\n",
       " '131.083',\n",
       " '672,018',\n",
       " '621,301',\n",
       " '969,604',\n",
       " '4.56%',\n",
       " '130.791',\n",
       " '663,258',\n",
       " '612,828',\n",
       " '906,672',\n",
       " '4.29%',\n",
       " '122.977',\n",
       " '561,801',\n",
       " '522,009',\n",
       " '-',\n",
       " '4.14%',\n",
       " '118.733',\n",
       " '-',\n",
       " '559,412',\n",
       " '856,112',\n",
       " '4.10%',\n",
       " '117.703',\n",
       " '634,408',\n",
       " '590,569',\n",
       " '831,610',\n",
       " '3.89%',\n",
       " '111.519',\n",
       " '572,240',\n",
       " '531,085',\n",
       " '611,804',\n",
       " '2.81%',\n",
       " '80.562',\n",
       " '414,977',\n",
       " '375,651',\n",
       " '574,760',\n",
       " '2.79%',\n",
       " '79.957',\n",
       " '418,868',\n",
       " '397,669',\n",
       " '521,275',\n",
       " '2.58%',\n",
       " '74.098',\n",
       " '396,499',\n",
       " '376,877',\n",
       " '-',\n",
       " '1.67%',\n",
       " '47.982',\n",
       " '-',\n",
       " '234,048',\n",
       " '329,180',\n",
       " '1.61%',\n",
       " '46.187',\n",
       " '243,477',\n",
       " '231,182',\n",
       " '328,598',\n",
       " '1.57%',\n",
       " '45.145',\n",
       " '240,036',\n",
       " '224,986',\n",
       " '-',\n",
       " '1.30%',\n",
       " '37.351',\n",
       " '-',\n",
       " '193,273',\n",
       " '-',\n",
       " '0.83%',\n",
       " '23.690',\n",
       " '-',\n",
       " '112,755',\n",
       " '165,472',\n",
       " '0.81%',\n",
       " '23.369',\n",
       " '124,403',\n",
       " '117,851',\n",
       " '80,449',\n",
       " '0.39%',\n",
       " '11.115',\n",
       " '63,408',\n",
       " '57,787',\n",
       " '55,984',\n",
       " '0.26%',\n",
       " '7.571',\n",
       " '40,583',\n",
       " '36,963',\n",
       " '-',\n",
       " '0.22%',\n",
       " '6.397',\n",
       " '-',\n",
       " '31,192',\n",
       " '38,253',\n",
       " '0.18%',\n",
       " '5.230',\n",
       " '25,093',\n",
       " '23,013',\n",
       " '36,572',\n",
       " '0.18%',\n",
       " '5.086',\n",
       " '26,695',\n",
       " '24,682',\n",
       " '32,496',\n",
       " '0.15%',\n",
       " '4.363',\n",
       " '20,017',\n",
       " '18,722',\n",
       " '31,790',\n",
       " '0.15%',\n",
       " '4.233',\n",
       " '20,673',\n",
       " '19,300',\n",
       " '-',\n",
       " '0.14%',\n",
       " '4.144',\n",
       " '-',\n",
       " '17,647',\n",
       " '-',\n",
       " '0.13%',\n",
       " '3.737',\n",
       " '-',\n",
       " '16,676',\n",
       " '26,503',\n",
       " '0.12%',\n",
       " '3.385',\n",
       " '18,797',\n",
       " '16,478',\n",
       " '-',\n",
       " '-',\n",
       " '-',\n",
       " '-',\n",
       " '-',\n",
       " '20,351,013',\n",
       " '18,886,957',\n",
       " '',\n",
       " '2,869',\n",
       " '14,569,268',\n",
       " '14,003,316',\n",
       " '-',\n",
       " '13.97%',\n",
       " '-',\n",
       " '1,794,123',\n",
       " '1,659,210',\n",
       " '8.77%',\n",
       " '1,167,776',\n",
       " '1,079,894',\n",
       " '1,495,758',\n",
       " '8.41%',\n",
       " '1,015,735',\n",
       " '979,159',\n",
       " '1,476,983',\n",
       " '8.09%',\n",
       " '1,035,131',\n",
       " '976,948',\n",
       " '-',\n",
       " '7.92%',\n",
       " '-',\n",
       " '1,036,859',\n",
       " '1,150,711',\n",
       " '5.96%',\n",
       " '713,376',\n",
       " '662,432',\n",
       " '916,014',\n",
       " '5.06%',\n",
       " '630,693',\n",
       " '600,433',\n",
       " '881,873',\n",
       " '4.68%',\n",
       " '594,806',\n",
       " '549,481',\n",
       " '875,429',\n",
       " '4.65%',\n",
       " '595,605',\n",
       " '550,584',\n",
       " '827,019',\n",
       " '4.41%',\n",
       " '496,798',\n",
       " '461,903',\n",
       " '-',\n",
       " '4.24%',\n",
       " '-',\n",
       " '513,322',\n",
       " '779,647',\n",
       " '4.22%',\n",
       " '568,265',\n",
       " '529,739',\n",
       " '755,790',\n",
       " '3.99%',\n",
       " '514,983',\n",
       " '477,834',\n",
       " '562,710',\n",
       " '2.91%',\n",
       " '377,276',\n",
       " '340,512',\n",
       " '517,521',\n",
       " '2.83%',\n",
       " '374,015',\n",
       " '354,830',\n",
       " '457,757',\n",
       " '2.56%',\n",
       " '344,437',\n",
       " '327,805',\n",
       " '-',\n",
       " '1.69%',\n",
       " '-',\n",
       " '207,193',\n",
       " '301,242',\n",
       " '1.63%',\n",
       " '218,232',\n",
       " '204,423',\n",
       " '288,041',\n",
       " '1.60%',\n",
       " '210,837',\n",
       " '200,453',\n",
       " '-',\n",
       " '1.33%',\n",
       " '-',\n",
       " '173,211',\n",
       " '143,063',\n",
       " '0.80%',\n",
       " '107,171',\n",
       " '101,534',\n",
       " '-',\n",
       " '0.78%',\n",
       " '-',\n",
       " '91,666',\n",
       " '72,181',\n",
       " '0.40%',\n",
       " '56,810',\n",
       " '51,878',\n",
       " '50,227',\n",
       " '0.27%',\n",
       " '35,980',\n",
       " '32,830',\n",
       " '-',\n",
       " '0.22%',\n",
       " '-',\n",
       " '27,565',\n",
       " '34,823',\n",
       " '0.19%',\n",
       " '22,291',\n",
       " '20,534',\n",
       " '32,833',\n",
       " '0.18%',\n",
       " '23,564',\n",
       " '21,779',\n",
       " '29,148',\n",
       " '0.15%',\n",
       " '18,549',\n",
       " '17,228',\n",
       " '28,391',\n",
       " '0.15%',\n",
       " '17,060',\n",
       " '15,972',\n",
       " '-',\n",
       " '0.15%',\n",
       " '-',\n",
       " '15,381',\n",
       " '-',\n",
       " '0.13%',\n",
       " '-',\n",
       " '15,013',\n",
       " '24,424',\n",
       " '0.13%',\n",
       " '17,797',\n",
       " '15,372',\n",
       " '-',\n",
       " '-',\n",
       " '-',\n",
       " '-',\n",
       " '17,994,301',\n",
       " '16,704,645',\n",
       " '',\n",
       " '12,681,246',\n",
       " '12,240,380']"
      ]
     },
     "execution_count": 107,
     "metadata": {},
     "output_type": "execute_result"
    }
   ],
   "source": [
    "share"
   ]
  },
  {
   "cell_type": "code",
   "execution_count": 108,
   "id": "b1085012",
   "metadata": {},
   "outputs": [
    {
     "data": {
      "text/plain": [
       "308"
      ]
     },
     "execution_count": 108,
     "metadata": {},
     "output_type": "execute_result"
    }
   ],
   "source": [
    "gdp=[]\n",
    "gdp_tags=driver.find_elements(By.XPATH,\"//td[@class='data']\")\n",
    "for i in gdp_tags:\n",
    "    gdp.append(i.text)\n",
    "len(gdp)"
   ]
  },
  {
   "cell_type": "code",
   "execution_count": 109,
   "id": "595633a4",
   "metadata": {},
   "outputs": [
    {
     "data": {
      "text/plain": [
       "['-',\n",
       " '13.94%',\n",
       " '399.921',\n",
       " '-',\n",
       " '2,039,074',\n",
       " '1,845,853',\n",
       " '8.63%',\n",
       " '247.629',\n",
       " '1,312,929',\n",
       " '1,215,307',\n",
       " '1,687,818',\n",
       " '8.39%',\n",
       " '240.726',\n",
       " '1,166,817',\n",
       " '1,123,982',\n",
       " '-',\n",
       " '7.96%',\n",
       " '228.290',\n",
       " '-',\n",
       " '1,186,379',\n",
       " '1,631,977',\n",
       " '7.91%',\n",
       " '226.806',\n",
       " '1,156,039',\n",
       " '1,091,077',\n",
       " '1,253,832',\n",
       " '5.77%',\n",
       " '165.556',\n",
       " '793,223',\n",
       " '739,525',\n",
       " '1,020,989',\n",
       " '4.99%',\n",
       " '143.179',\n",
       " '711,627',\n",
       " '677,428',\n",
       " '972,782',\n",
       " '4.57%',\n",
       " '131.083',\n",
       " '672,018',\n",
       " '621,301',\n",
       " '969,604',\n",
       " '4.56%',\n",
       " '130.791',\n",
       " '663,258',\n",
       " '612,828',\n",
       " '906,672',\n",
       " '4.29%',\n",
       " '122.977',\n",
       " '561,801',\n",
       " '522,009',\n",
       " '-',\n",
       " '4.14%',\n",
       " '118.733',\n",
       " '-',\n",
       " '559,412',\n",
       " '856,112',\n",
       " '4.10%',\n",
       " '117.703',\n",
       " '634,408',\n",
       " '590,569',\n",
       " '831,610',\n",
       " '3.89%',\n",
       " '111.519',\n",
       " '572,240',\n",
       " '531,085',\n",
       " '611,804',\n",
       " '2.81%',\n",
       " '80.562',\n",
       " '414,977',\n",
       " '375,651',\n",
       " '574,760',\n",
       " '2.79%',\n",
       " '79.957',\n",
       " '418,868',\n",
       " '397,669',\n",
       " '521,275',\n",
       " '2.58%',\n",
       " '74.098',\n",
       " '396,499',\n",
       " '376,877',\n",
       " '-',\n",
       " '1.67%',\n",
       " '47.982',\n",
       " '-',\n",
       " '234,048',\n",
       " '329,180',\n",
       " '1.61%',\n",
       " '46.187',\n",
       " '243,477',\n",
       " '231,182',\n",
       " '328,598',\n",
       " '1.57%',\n",
       " '45.145',\n",
       " '240,036',\n",
       " '224,986',\n",
       " '-',\n",
       " '1.30%',\n",
       " '37.351',\n",
       " '-',\n",
       " '193,273',\n",
       " '-',\n",
       " '0.83%',\n",
       " '23.690',\n",
       " '-',\n",
       " '112,755',\n",
       " '165,472',\n",
       " '0.81%',\n",
       " '23.369',\n",
       " '124,403',\n",
       " '117,851',\n",
       " '80,449',\n",
       " '0.39%',\n",
       " '11.115',\n",
       " '63,408',\n",
       " '57,787',\n",
       " '55,984',\n",
       " '0.26%',\n",
       " '7.571',\n",
       " '40,583',\n",
       " '36,963',\n",
       " '-',\n",
       " '0.22%',\n",
       " '6.397',\n",
       " '-',\n",
       " '31,192',\n",
       " '38,253',\n",
       " '0.18%',\n",
       " '5.230',\n",
       " '25,093',\n",
       " '23,013',\n",
       " '36,572',\n",
       " '0.18%',\n",
       " '5.086',\n",
       " '26,695',\n",
       " '24,682',\n",
       " '32,496',\n",
       " '0.15%',\n",
       " '4.363',\n",
       " '20,017',\n",
       " '18,722',\n",
       " '31,790',\n",
       " '0.15%',\n",
       " '4.233',\n",
       " '20,673',\n",
       " '19,300',\n",
       " '-',\n",
       " '0.14%',\n",
       " '4.144',\n",
       " '-',\n",
       " '17,647',\n",
       " '-',\n",
       " '0.13%',\n",
       " '3.737',\n",
       " '-',\n",
       " '16,676',\n",
       " '26,503',\n",
       " '0.12%',\n",
       " '3.385',\n",
       " '18,797',\n",
       " '16,478',\n",
       " '-',\n",
       " '-',\n",
       " '-',\n",
       " '-',\n",
       " '-',\n",
       " '20,351,013',\n",
       " '18,886,957',\n",
       " '',\n",
       " '2,869',\n",
       " '14,569,268',\n",
       " '14,003,316',\n",
       " '-',\n",
       " '13.97%',\n",
       " '-',\n",
       " '1,794,123',\n",
       " '1,659,210',\n",
       " '8.77%',\n",
       " '1,167,776',\n",
       " '1,079,894',\n",
       " '1,495,758',\n",
       " '8.41%',\n",
       " '1,015,735',\n",
       " '979,159',\n",
       " '1,476,983',\n",
       " '8.09%',\n",
       " '1,035,131',\n",
       " '976,948',\n",
       " '-',\n",
       " '7.92%',\n",
       " '-',\n",
       " '1,036,859',\n",
       " '1,150,711',\n",
       " '5.96%',\n",
       " '713,376',\n",
       " '662,432',\n",
       " '916,014',\n",
       " '5.06%',\n",
       " '630,693',\n",
       " '600,433',\n",
       " '881,873',\n",
       " '4.68%',\n",
       " '594,806',\n",
       " '549,481',\n",
       " '875,429',\n",
       " '4.65%',\n",
       " '595,605',\n",
       " '550,584',\n",
       " '827,019',\n",
       " '4.41%',\n",
       " '496,798',\n",
       " '461,903',\n",
       " '-',\n",
       " '4.24%',\n",
       " '-',\n",
       " '513,322',\n",
       " '779,647',\n",
       " '4.22%',\n",
       " '568,265',\n",
       " '529,739',\n",
       " '755,790',\n",
       " '3.99%',\n",
       " '514,983',\n",
       " '477,834',\n",
       " '562,710',\n",
       " '2.91%',\n",
       " '377,276',\n",
       " '340,512',\n",
       " '517,521',\n",
       " '2.83%',\n",
       " '374,015',\n",
       " '354,830',\n",
       " '457,757',\n",
       " '2.56%',\n",
       " '344,437',\n",
       " '327,805',\n",
       " '-',\n",
       " '1.69%',\n",
       " '-',\n",
       " '207,193',\n",
       " '301,242',\n",
       " '1.63%',\n",
       " '218,232',\n",
       " '204,423',\n",
       " '288,041',\n",
       " '1.60%',\n",
       " '210,837',\n",
       " '200,453',\n",
       " '-',\n",
       " '1.33%',\n",
       " '-',\n",
       " '173,211',\n",
       " '143,063',\n",
       " '0.80%',\n",
       " '107,171',\n",
       " '101,534',\n",
       " '-',\n",
       " '0.78%',\n",
       " '-',\n",
       " '91,666',\n",
       " '72,181',\n",
       " '0.40%',\n",
       " '56,810',\n",
       " '51,878',\n",
       " '50,227',\n",
       " '0.27%',\n",
       " '35,980',\n",
       " '32,830',\n",
       " '-',\n",
       " '0.22%',\n",
       " '-',\n",
       " '27,565',\n",
       " '34,823',\n",
       " '0.19%',\n",
       " '22,291',\n",
       " '20,534',\n",
       " '32,833',\n",
       " '0.18%',\n",
       " '23,564',\n",
       " '21,779',\n",
       " '29,148',\n",
       " '0.15%',\n",
       " '18,549',\n",
       " '17,228',\n",
       " '28,391',\n",
       " '0.15%',\n",
       " '17,060',\n",
       " '15,972',\n",
       " '-',\n",
       " '0.15%',\n",
       " '-',\n",
       " '15,381',\n",
       " '-',\n",
       " '0.13%',\n",
       " '-',\n",
       " '15,013',\n",
       " '24,424',\n",
       " '0.13%',\n",
       " '17,797',\n",
       " '15,372',\n",
       " '-',\n",
       " '-',\n",
       " '-',\n",
       " '-',\n",
       " '17,994,301',\n",
       " '16,704,645',\n",
       " '',\n",
       " '12,681,246',\n",
       " '12,240,380']"
      ]
     },
     "execution_count": 109,
     "metadata": {},
     "output_type": "execute_result"
    }
   ],
   "source": [
    "gdp"
   ]
  },
  {
   "cell_type": "markdown",
   "id": "a06781f9",
   "metadata": {},
   "source": [
    "# Scrape the details of trending repositories on Github.com."
   ]
  },
  {
   "cell_type": "code",
   "execution_count": 119,
   "id": "fc4a4c7a",
   "metadata": {},
   "outputs": [],
   "source": [
    "driver=webdriver.Chrome(r'C:\\Users\\Admin\\Downloads\\chromedriver_win32 (1)\\chromedriver.exe')"
   ]
  },
  {
   "cell_type": "code",
   "execution_count": 120,
   "id": "443de36f",
   "metadata": {},
   "outputs": [],
   "source": [
    "driver.maximize_window()"
   ]
  },
  {
   "cell_type": "code",
   "execution_count": 121,
   "id": "29b3d380",
   "metadata": {},
   "outputs": [],
   "source": [
    "url= 'https://github.com/'\n",
    "driver.get(url)"
   ]
  },
  {
   "cell_type": "code",
   "execution_count": 122,
   "id": "a1268b21",
   "metadata": {},
   "outputs": [],
   "source": [
    "search_btn=driver.find_element(By.XPATH,\"/html/body/div[1]/div[1]/header/div/div[2]/div/nav/ul/li[3]/button\")\n",
    "search_btn.click()"
   ]
  },
  {
   "cell_type": "code",
   "execution_count": 123,
   "id": "834a187f",
   "metadata": {},
   "outputs": [],
   "source": [
    "search_btn=driver.find_element(By.XPATH,\"/html/body/div[1]/div[1]/header/div/div[2]/div/nav/ul/li[3]/div/div[3]/ul/li[2]/a\")\n",
    "search_btn.click()"
   ]
  },
  {
   "cell_type": "code",
   "execution_count": 124,
   "id": "810f3225",
   "metadata": {},
   "outputs": [
    {
     "data": {
      "text/plain": [
       "25"
      ]
     },
     "execution_count": 124,
     "metadata": {},
     "output_type": "execute_result"
    }
   ],
   "source": [
    "title=[]\n",
    "title_tags=driver.find_elements(By.XPATH,\"//span[@class='text-normal']\")\n",
    "for i in title_tags:\n",
    "    title.append(i.text)\n",
    "len(title)"
   ]
  },
  {
   "cell_type": "code",
   "execution_count": 125,
   "id": "9fbaf7cb",
   "metadata": {},
   "outputs": [
    {
     "data": {
      "text/plain": [
       "['xiangsx /',\n",
       " 'intel /',\n",
       " 'facebookresearch /',\n",
       " 'Licoy /',\n",
       " 'Luodian /',\n",
       " 'public-apis /',\n",
       " 'apple /',\n",
       " 'dessalines /',\n",
       " 'microsoft /',\n",
       " 'JushBJJ /',\n",
       " 'knadh /',\n",
       " 'FlagAI-Open /',\n",
       " 'jwasham /',\n",
       " 'Mintplex-Labs /',\n",
       " 'termux /',\n",
       " 'RVC-Project /',\n",
       " 'LemmyNet /',\n",
       " 'kargisimos /',\n",
       " '30-seconds /',\n",
       " 'BradyFU /',\n",
       " 'yangshun /',\n",
       " 'stefan-jansen /',\n",
       " 'BloopAI /',\n",
       " 'iv-org /',\n",
       " 'SillyTavern /']"
      ]
     },
     "execution_count": 125,
     "metadata": {},
     "output_type": "execute_result"
    }
   ],
   "source": [
    "title"
   ]
  },
  {
   "cell_type": "code",
   "execution_count": 126,
   "id": "24605fcb",
   "metadata": {},
   "outputs": [
    {
     "data": {
      "text/plain": [
       "24"
      ]
     },
     "execution_count": 126,
     "metadata": {},
     "output_type": "execute_result"
    }
   ],
   "source": [
    "description=[]\n",
    "description_tags=driver.find_elements(By.XPATH,\"//p[@class='col-9 color-fg-muted my-1 pr-4']\")\n",
    "for i in description_tags:\n",
    "    description.append(i.text)\n",
    "len(description)"
   ]
  },
  {
   "cell_type": "code",
   "execution_count": 127,
   "id": "caaae834",
   "metadata": {},
   "outputs": [
    {
     "data": {
      "text/plain": [
       "['Providing a free OpenAI GPT-4 API ! This is a replication project for the typescript version of xtekky/gpt4free',\n",
       " 'Intel One Mono font repository',\n",
       " 'Audiocraft is a library for audio processing and generation with deep learning. It features the state-of-the-art EnCodec audio compressor / tokenizer, along with MusicGen, a simple and controllable music generation LM with textual and melodic conditioning.',\n",
       " '🎨 一键拥有你自己的 ChatGPT+Midjourney 网页服务 | Own your own ChatGPT+Midjourney web service with one click',\n",
       " \"🦦 Otter, a multi-modal model based on OpenFlamingo (open-sourced version of DeepMind's Flamingo), trained on MIMIC-IT and showcasing improved instruction-following and in-context learning ability.\",\n",
       " 'A collective list of free APIs',\n",
       " 'A native android app for Lemmy',\n",
       " '12 Weeks, 24 Lessons, AI for All!',\n",
       " 'A GPT-4 AI Tutor Prompt for customizable personalized learning experiences.',\n",
       " 'High performance, self-hosted, newsletter and mailing list manager with a modern dashboard. Single binary app.',\n",
       " 'FlagAI (Fast LArge-scale General AI models) is a fast, easy-to-use and extensible toolkit for large-scale model.',\n",
       " 'A complete computer science study plan to become a software engineer.',\n",
       " 'A full-stack application that turns any documents into an intelligent chatbot with a sleek UI and easier way to manage your workspaces.',\n",
       " 'A package build system for Termux.',\n",
       " 'Voice data <= 10 mins can also be used to train a good VC model!',\n",
       " '🐀 A link aggregator and forum for the fediverse',\n",
       " 'A collection of bookmarks for penetration testers, bug bounty hunters, malware developers, reverse engineers and anyone who is just interested in infosec topics.',\n",
       " 'Short code snippets for all your development needs',\n",
       " 'Latest Papers and Datasets on Multimodal Large Language Models',\n",
       " '💯 Curated coding interview preparation materials for busy software engineers',\n",
       " 'Code for Machine Learning for Algorithmic Trading, 2nd edition.',\n",
       " 'bloop is a fast code search engine written in Rust.',\n",
       " 'Invidious is an alternative front-end to YouTube',\n",
       " 'LLM Frontend for Power Users.']"
      ]
     },
     "execution_count": 127,
     "metadata": {},
     "output_type": "execute_result"
    }
   ],
   "source": [
    "description"
   ]
  },
  {
   "cell_type": "code",
   "execution_count": 130,
   "id": "73c92a20",
   "metadata": {},
   "outputs": [
    {
     "data": {
      "text/plain": [
       "50"
      ]
     },
     "execution_count": 130,
     "metadata": {},
     "output_type": "execute_result"
    }
   ],
   "source": [
    "count=[]\n",
    "count_tags=driver.find_elements(By.XPATH,\"//a[@class='Link--muted d-inline-block mr-3']\")\n",
    "for i in count_tags:\n",
    "    count.append(i.text)\n",
    "len(count)"
   ]
  },
  {
   "cell_type": "code",
   "execution_count": 131,
   "id": "d273294f",
   "metadata": {},
   "outputs": [
    {
     "data": {
      "text/plain": [
       "['3,145',\n",
       " '356',\n",
       " '5,088',\n",
       " '111',\n",
       " '4,580',\n",
       " '257',\n",
       " '1,499',\n",
       " '218',\n",
       " '1,462',\n",
       " '130',\n",
       " '243,138',\n",
       " '27,726',\n",
       " '250',\n",
       " '10',\n",
       " '361',\n",
       " '65',\n",
       " '10,513',\n",
       " '1,716',\n",
       " '12,907',\n",
       " '1,111',\n",
       " '10,511',\n",
       " '893',\n",
       " '2,435',\n",
       " '221',\n",
       " '259,337',\n",
       " '68,065',\n",
       " '826',\n",
       " '97',\n",
       " '10,554',\n",
       " '2,703',\n",
       " '4,567',\n",
       " '586',\n",
       " '8,806',\n",
       " '541',\n",
       " '391',\n",
       " '32',\n",
       " '112,742',\n",
       " '11,573',\n",
       " '1,061',\n",
       " '61',\n",
       " '91,836',\n",
       " '11,933',\n",
       " '8,161',\n",
       " '3,060',\n",
       " '6,435',\n",
       " '342',\n",
       " '11,033',\n",
       " '1,225',\n",
       " '864',\n",
       " '231']"
      ]
     },
     "execution_count": 131,
     "metadata": {},
     "output_type": "execute_result"
    }
   ],
   "source": [
    "count"
   ]
  },
  {
   "cell_type": "code",
   "execution_count": 132,
   "id": "5b9fea04",
   "metadata": {},
   "outputs": [
    {
     "data": {
      "text/plain": [
       "21"
      ]
     },
     "execution_count": 132,
     "metadata": {},
     "output_type": "execute_result"
    }
   ],
   "source": [
    "language=[]\n",
    "language_tags=driver.find_elements(By.XPATH,\"//span[@class='d-inline-block ml-0 mr-3']\")\n",
    "for i in language_tags:\n",
    "    language.append(i.text)\n",
    "len(language)"
   ]
  },
  {
   "cell_type": "code",
   "execution_count": 133,
   "id": "bdfb86b6",
   "metadata": {},
   "outputs": [
    {
     "data": {
      "text/plain": [
       "['TypeScript',\n",
       " 'Python',\n",
       " 'TypeScript',\n",
       " 'Python',\n",
       " 'Python',\n",
       " 'Swift',\n",
       " 'Kotlin',\n",
       " 'Jupyter Notebook',\n",
       " 'Go',\n",
       " 'Python',\n",
       " 'JavaScript',\n",
       " 'Shell',\n",
       " 'Python',\n",
       " 'Rust',\n",
       " 'HTML',\n",
       " 'JavaScript',\n",
       " 'TypeScript',\n",
       " 'Jupyter Notebook',\n",
       " 'Rust',\n",
       " 'Crystal',\n",
       " 'JavaScript']"
      ]
     },
     "execution_count": 133,
     "metadata": {},
     "output_type": "execute_result"
    }
   ],
   "source": [
    "language"
   ]
  },
  {
   "cell_type": "markdown",
   "id": "9a38c2d2",
   "metadata": {},
   "source": [
    "# Scrape the details of top 100 songs on billiboard.com."
   ]
  },
  {
   "cell_type": "code",
   "execution_count": 137,
   "id": "8d6ef4f0",
   "metadata": {},
   "outputs": [],
   "source": [
    "driver=webdriver.Chrome(r'C:\\Users\\Admin\\Downloads\\chromedriver_win32 (1)\\chromedriver.exe')"
   ]
  },
  {
   "cell_type": "code",
   "execution_count": 138,
   "id": "c6216696",
   "metadata": {},
   "outputs": [],
   "source": [
    "driver.maximize_window()"
   ]
  },
  {
   "cell_type": "code",
   "execution_count": 139,
   "id": "fdff14b7",
   "metadata": {},
   "outputs": [],
   "source": [
    "url= 'https:/www.billboard.com/'\n",
    "driver.get(url)"
   ]
  },
  {
   "cell_type": "code",
   "execution_count": 141,
   "id": "b3d50815",
   "metadata": {},
   "outputs": [],
   "source": [
    "search_btn=driver.find_element(By.XPATH,\"/html/body/div[3]/header/div/div[4]/div/div[1]/div[1]/button\")\n",
    "search_btn.click()"
   ]
  },
  {
   "cell_type": "code",
   "execution_count": 142,
   "id": "28bd68c0",
   "metadata": {},
   "outputs": [],
   "source": [
    "search_btn=driver.find_element(By.XPATH,\"/html/body/div[3]/div[9]/div/div/div/ul/li[1]/ul/li[2]\")\n",
    "search_btn.click()"
   ]
  },
  {
   "cell_type": "code",
   "execution_count": 145,
   "id": "dcfee41d",
   "metadata": {},
   "outputs": [
    {
     "data": {
      "text/plain": [
       "1"
      ]
     },
     "execution_count": 145,
     "metadata": {},
     "output_type": "execute_result"
    }
   ],
   "source": [
    "song_name=[]\n",
    "song_name_tags=driver.find_elements(By.XPATH,\"/html/body/div[4]/main/div[2]/div[3]/div/div/div/div[2]/div[2]/ul/li[4]/ul/li[1]/h3\")\n",
    "for i in song_name_tags:\n",
    "    song_name.append(i.text)\n",
    "len(song_name)"
   ]
  },
  {
   "cell_type": "code",
   "execution_count": 146,
   "id": "faa1932f",
   "metadata": {},
   "outputs": [
    {
     "data": {
      "text/plain": [
       "['Last Night']"
      ]
     },
     "execution_count": 146,
     "metadata": {},
     "output_type": "execute_result"
    }
   ],
   "source": [
    "song_name"
   ]
  },
  {
   "cell_type": "code",
   "execution_count": 148,
   "id": "114bd5c9",
   "metadata": {},
   "outputs": [
    {
     "data": {
      "text/plain": [
       "1"
      ]
     },
     "execution_count": 148,
     "metadata": {},
     "output_type": "execute_result"
    }
   ],
   "source": [
    "artist_name=[]\n",
    "artist_name_tags=driver.find_elements(By.XPATH,\"//span[@class='c-label  a-no-trucate a-font-primary-s lrv-u-font-size-14@mobile-max u-line-height-normal@mobile-max u-letter-spacing-0021 lrv-u-display-block a-truncate-ellipsis-2line u-max-width-330 u-max-width-230@tablet-only u-font-size-20@tablet']\")\n",
    "for i in artist_name_tags:\n",
    "    artist_name.append(i.text)\n",
    "len(artist_name)"
   ]
  },
  {
   "cell_type": "code",
   "execution_count": 149,
   "id": "2779327b",
   "metadata": {},
   "outputs": [
    {
     "data": {
      "text/plain": [
       "['Morgan Wallen']"
      ]
     },
     "execution_count": 149,
     "metadata": {},
     "output_type": "execute_result"
    }
   ],
   "source": [
    "artist_name"
   ]
  },
  {
   "cell_type": "code",
   "execution_count": 150,
   "id": "9244c3df",
   "metadata": {},
   "outputs": [
    {
     "data": {
      "text/plain": [
       "1"
      ]
     },
     "execution_count": 150,
     "metadata": {},
     "output_type": "execute_result"
    }
   ],
   "source": [
    "rank=[]\n",
    "rank_tags=driver.find_elements(By.XPATH,\"/html/body/div[4]/main/div[2]/div[3]/div/div/div/div[2]/div[2]/ul/li[4]/ul/li[4]\")\n",
    "for i in rank_tags:\n",
    "    rank.append(i.text)\n",
    "len(rank)"
   ]
  },
  {
   "cell_type": "code",
   "execution_count": 151,
   "id": "3309a86f",
   "metadata": {},
   "outputs": [
    {
     "data": {
      "text/plain": [
       "['1']"
      ]
     },
     "execution_count": 151,
     "metadata": {},
     "output_type": "execute_result"
    }
   ],
   "source": [
    "rank"
   ]
  },
  {
   "cell_type": "code",
   "execution_count": 152,
   "id": "c5ccbb73",
   "metadata": {},
   "outputs": [
    {
     "data": {
      "text/plain": [
       "1"
      ]
     },
     "execution_count": 152,
     "metadata": {},
     "output_type": "execute_result"
    }
   ],
   "source": [
    "peak_rank=[]\n",
    "peak_rank_tags=driver.find_elements(By.XPATH,\"/html/body/div[4]/main/div[2]/div[3]/div/div/div/div[2]/div[2]/ul/li[4]/ul/li[5]/span\")\n",
    "for i in peak_rank_tags:\n",
    "    peak_rank.append(i.text)\n",
    "len(peak_rank)"
   ]
  },
  {
   "cell_type": "code",
   "execution_count": 153,
   "id": "fa749c4f",
   "metadata": {},
   "outputs": [
    {
     "data": {
      "text/plain": [
       "['1']"
      ]
     },
     "execution_count": 153,
     "metadata": {},
     "output_type": "execute_result"
    }
   ],
   "source": [
    "peak_rank"
   ]
  },
  {
   "cell_type": "code",
   "execution_count": 154,
   "id": "ccd057a7",
   "metadata": {},
   "outputs": [
    {
     "data": {
      "text/plain": [
       "1"
      ]
     },
     "execution_count": 154,
     "metadata": {},
     "output_type": "execute_result"
    }
   ],
   "source": [
    "weeks_on_chart=[]\n",
    "weeks_on_chart_tags=driver.find_elements(By.XPATH,\"/html/body/div[4]/main/div[2]/div[3]/div/div/div/div[2]/div[2]/ul/li[4]/ul/li[6]/span\")\n",
    "for i in weeks_on_chart_tags:\n",
    "    weeks_on_chart.append(i.text)\n",
    "len(weeks_on_chart)"
   ]
  },
  {
   "cell_type": "code",
   "execution_count": 155,
   "id": "82d1d50a",
   "metadata": {},
   "outputs": [
    {
     "data": {
      "text/plain": [
       "['18']"
      ]
     },
     "execution_count": 155,
     "metadata": {},
     "output_type": "execute_result"
    }
   ],
   "source": [
    "weeks_on_chart"
   ]
  },
  {
   "cell_type": "markdown",
   "id": "19cceda3",
   "metadata": {},
   "source": [
    "# Scrape the details of Data science recruiters from naukri.com"
   ]
  },
  {
   "cell_type": "code",
   "execution_count": 156,
   "id": "6d755a5f",
   "metadata": {},
   "outputs": [],
   "source": [
    "driver=webdriver.Chrome(r'C:\\Users\\Admin\\Downloads\\chromedriver_win32 (1)\\chromedriver.exe')"
   ]
  },
  {
   "cell_type": "code",
   "execution_count": 157,
   "id": "61dd3838",
   "metadata": {},
   "outputs": [],
   "source": [
    "driver.maximize_window()"
   ]
  },
  {
   "cell_type": "code",
   "execution_count": 158,
   "id": "0b242dcc",
   "metadata": {},
   "outputs": [],
   "source": [
    "url= 'https:/www.naukri.com/'\n",
    "driver.get(url)"
   ]
  },
  {
   "cell_type": "code",
   "execution_count": 160,
   "id": "7667a961",
   "metadata": {},
   "outputs": [],
   "source": [
    "search_btn=driver.find_element(By.XPATH,\"/html/body/div[1]/div[7]/div/div/div[1]/div/div/div/div[1]/div/input\")\n",
    "search_btn.send_keys(\"Data Science \")"
   ]
  },
  {
   "cell_type": "code",
   "execution_count": 161,
   "id": "232585bc",
   "metadata": {},
   "outputs": [],
   "source": [
    "search_btn=driver.find_element(By.XPATH,\"/html/body/div[1]/div[7]/div/div/div[6]\")\n",
    "search_btn.click()"
   ]
  },
  {
   "cell_type": "code",
   "execution_count": 162,
   "id": "a4c21b38",
   "metadata": {},
   "outputs": [
    {
     "data": {
      "text/plain": [
       "20"
      ]
     },
     "execution_count": 162,
     "metadata": {},
     "output_type": "execute_result"
    }
   ],
   "source": [
    "job_titles=[]\n",
    "title_tags=driver.find_elements(By.XPATH,\"//a[@class='title ellipsis']\")\n",
    "for i in title_tags:\n",
    "    job_titles.append(i.text)\n",
    "len(job_titles)"
   ]
  },
  {
   "cell_type": "code",
   "execution_count": 163,
   "id": "5f17eb3e",
   "metadata": {},
   "outputs": [
    {
     "data": {
      "text/plain": [
       "['Hiring Data Science Engineers - Tata Elxsi, Bangalore',\n",
       " 'Hiring Machine Learning/Data Science Engineers - Tata Elxsi, Bangalore',\n",
       " 'Data Science Analytics Sr Analyst - Data Science',\n",
       " 'Analytics Senior Analyst - Data Science',\n",
       " 'Assistant Manager Data Science & Analytics',\n",
       " 'Machine Learning Data Science Practitioner',\n",
       " 'Analyst/Manager- Data Science/Data Analytics',\n",
       " 'Data Science Analyst - Data Science',\n",
       " 'Senior Manager Data Science',\n",
       " 'Senior Staff Engineer (Data Science)',\n",
       " 'Data Science Analytics Specialist - Data Science',\n",
       " 'Data Science Manager',\n",
       " 'Data Scientist Requirement/ Data Analytics / Data Science/core concept',\n",
       " 'Divisional Manager - Data Science',\n",
       " 'Lead Data Science',\n",
       " 'Data Science Engineer',\n",
       " 'Data Science Manager - Machine Learning/Predictive Modeling',\n",
       " 'Senior Manager, Data Sciences and Business Analytics',\n",
       " 'Data Science / Data Analyst',\n",
       " 'Modelling / Data Science - Lead Analyst - Analytics']"
      ]
     },
     "execution_count": 163,
     "metadata": {},
     "output_type": "execute_result"
    }
   ],
   "source": [
    "job_titles"
   ]
  },
  {
   "cell_type": "code",
   "execution_count": 165,
   "id": "bc498939",
   "metadata": {},
   "outputs": [
    {
     "data": {
      "text/plain": [
       "20"
      ]
     },
     "execution_count": 165,
     "metadata": {},
     "output_type": "execute_result"
    }
   ],
   "source": [
    "skills=[]\n",
    "skills_tags=driver.find_elements(By.XPATH,\"//ul[@class='tags has-description']\")\n",
    "for i in skills_tags:\n",
    "    skills.append(i.text)\n",
    "len(skills)"
   ]
  },
  {
   "cell_type": "code",
   "execution_count": 166,
   "id": "e887640b",
   "metadata": {},
   "outputs": [
    {
     "data": {
      "text/plain": [
       "['Big Data Analytics\\nFlume\\nHiring\\nJDBC\\nPresto\\nImpala\\nSpring\\nJenkins',\n",
       " 'Machine Learning\\nData Science\\nKeras\\nHadoop\\nSpark\\nDocker\\nAirflow\\nMATLAB',\n",
       " 'Data Science\\nCloud\\nInsights\\nSR\\nBusiness Insight\\nScience\\nData analysis\\nBusiness Insights',\n",
       " 'Data Science\\nArtificial Intelligence\\nAnalytics\\nPython\\nIntelligence\\nData analysis\\nScience\\nSenior',\n",
       " 'Data mining\\nData Science\\nData management\\nTest cases\\nManagement\\nSoftware testing\\nSystem testing\\nDevelopment',\n",
       " 'machine learning\\nAdvanced Analytics\\nMachine\\nPython\\nScience\\nArtificial Intelligence\\nData Science\\nTensorflow',\n",
       " 'Analytical\\nData analysis\\nIntelligence\\nBusiness intelligence\\nData mining\\nEngagement\\nData management\\nMarketing',\n",
       " 'Data Science\\nPython\\nIntelligence\\nData analysis\\nArtificial Intelligence\\nBusiness Insight\\nScience\\nBusiness administration',\n",
       " 'C++\\nData Science\\nJavascript\\nSimulation\\nData mining\\nMachine learning\\nSenior\\nData analysis',\n",
       " 'Data Science\\nCloud Architecture\\nData Visualization\\nPython\\nCloud\\nData\\nSenior\\nScience',\n",
       " 'Data Science\\nPredictive Modeling\\nAnalytics\\nTeam leading\\nArtificial Intelligence\\nData\\nData analytics\\nTeam',\n",
       " 'Natural Language Processing\\nMachine Learning\\nAWS\\nArtificial Intelligence\\nDeep Learning\\nData\\nMachine\\nLanguages',\n",
       " 'Data Science\\nData Analytics\\nCore\\nForecasting\\nTensorflow\\nBlogs\\nProcessing\\nPytorch',\n",
       " 'Networking\\nMachine\\nProcess\\nData Science\\nNeural networks\\nAnalytics\\nSQL\\nData',\n",
       " 'Python\\nScience\\nHadoop\\nData Science\\nR\\nTableau\\nData\\nSpark',\n",
       " 'python\\ndata mining\\nProblem Solving\\nsql\\nData Science\\nTime\\nLogistics\\nDeep Learning',\n",
       " 'Data Science\\nAlgorithms\\nPredictive\\nNetworking\\nNeural networks\\nProject\\nData\\nMachine learning',\n",
       " 'advanced analytics\\npython\\nanalytics\\nsenior\\ndata analytics\\nsenior management\\nbusiness analytics\\ndata science',\n",
       " 'Analysis\\nJavascript\\nAnalytics\\nCoding\\nNeural networks\\nGoogle Analytics\\nData\\nMachine',\n",
       " 'python\\nStatistical Modeling\\nMachine Learning\\nsql\\nsas\\ndata analytics\\nstatistics\\ndata analysis']"
      ]
     },
     "execution_count": 166,
     "metadata": {},
     "output_type": "execute_result"
    }
   ],
   "source": [
    "skills"
   ]
  },
  {
   "cell_type": "markdown",
   "id": "82ae9901",
   "metadata": {},
   "source": [
    "- all the details which are company name , location , designation, skills have been scrapped "
   ]
  },
  {
   "cell_type": "markdown",
   "id": "8dad67d2",
   "metadata": {},
   "source": [
    "# . Scrape the details of Highest selling novels."
   ]
  },
  {
   "cell_type": "code",
   "execution_count": 2,
   "id": "3358722a",
   "metadata": {},
   "outputs": [],
   "source": [
    "driver=webdriver.Chrome(r'C:\\Users\\Admin\\Downloads\\chromedriver_win32 (1)\\chromedriver.exe')"
   ]
  },
  {
   "cell_type": "code",
   "execution_count": 3,
   "id": "d85d0acf",
   "metadata": {},
   "outputs": [],
   "source": [
    "driver.maximize_window()"
   ]
  },
  {
   "cell_type": "code",
   "execution_count": 5,
   "id": "0806977d",
   "metadata": {},
   "outputs": [],
   "source": [
    "url= 'https://www.theguardian.com/news/datablog/2012/aug/09/best-selling-books-all-time-fifty-shades-grey-compare'\n",
    "driver.get(url)"
   ]
  },
  {
   "cell_type": "code",
   "execution_count": null,
   "id": "1159db8b",
   "metadata": {},
   "outputs": [],
   "source": [
    "url = \"https://www.theguardian.com/news/datablog/2012/aug/09/best-selling-books-all-time-fifty-shades-grey-compare\"\n",
    "response = requests.get(url)\n",
    "soup = BeautifulSoup(response.content, \"html.parser\")\n",
    "table = soup.find(\"table\", {\"class\": \"in-article sortable\"})\n",
    "rows = table.find_all(\"tr\")\n",
    "for row in rows:\n",
    "    cells = row.find_all(\"td\")\n",
    "    book_name = cells[1].text.strip()\n",
    "    author_name = cells[2].text.strip()\n",
    "    volumes_sold = cells[3].text.strip()\n",
    "    publisher = cells[4].text.strip()\n",
    "    genre = cells[5].text.strip().replace(\",\", \"\")\n",
    "    \n",
    "    print(\"book_name:\", book_name)\n",
    "    print(\"author_name:\", author_name)\n",
    "    print(\"volumes_sold:\", volumes_sold)\n",
    "    print(\"publisher:\", publisher)\n",
    "    print(\"genre:\", genre)"
   ]
  },
  {
   "cell_type": "markdown",
   "id": "2d0ee70e",
   "metadata": {},
   "source": [
    "# Scrape the details most watched tv series of all time from imdb.com."
   ]
  },
  {
   "cell_type": "code",
   "execution_count": 30,
   "id": "cd88569e",
   "metadata": {},
   "outputs": [],
   "source": [
    "driver=webdriver.Chrome(r'C:\\Users\\Admin\\Downloads\\chromedriver_win32 (1)\\chromedriver.exe')"
   ]
  },
  {
   "cell_type": "code",
   "execution_count": 31,
   "id": "9ee540a5",
   "metadata": {},
   "outputs": [],
   "source": [
    "driver.maximize_window()"
   ]
  },
  {
   "cell_type": "code",
   "execution_count": 32,
   "id": "d68a206e",
   "metadata": {},
   "outputs": [],
   "source": [
    "url= 'https://www.imdb.com/list/ls095964455/'\n",
    "driver.get(url)"
   ]
  },
  {
   "cell_type": "code",
   "execution_count": 33,
   "id": "ad509692",
   "metadata": {},
   "outputs": [
    {
     "data": {
      "text/plain": [
       "100"
      ]
     },
     "execution_count": 33,
     "metadata": {},
     "output_type": "execute_result"
    }
   ],
   "source": [
    "name=[]\n",
    "name_tags=driver.find_elements(By.XPATH,\"//h3[@class='lister-item-header']\")\n",
    "for i in name_tags:\n",
    "    name.append(i.text)\n",
    "len(name)"
   ]
  },
  {
   "cell_type": "code",
   "execution_count": 34,
   "id": "60775850",
   "metadata": {},
   "outputs": [
    {
     "data": {
      "text/plain": [
       "['1. Game of Thrones (2011–2019)',\n",
       " '2. Stranger Things (2016–2024)',\n",
       " '3. The Walking Dead (2010–2022)',\n",
       " '4. 13 Reasons Why (2017–2020)',\n",
       " '5. The 100 (2014–2020)',\n",
       " '6. Orange Is the New Black (2013–2019)',\n",
       " '7. Riverdale (2017–2023)',\n",
       " \"8. Grey's Anatomy (2005– )\",\n",
       " '9. The Flash (2014–2023)',\n",
       " '10. Arrow (2012–2020)',\n",
       " '11. Money Heist (2017–2021)',\n",
       " '12. The Big Bang Theory (2007–2019)',\n",
       " '13. Black Mirror (2011– )',\n",
       " '14. Sherlock (2010–2017)',\n",
       " '15. Vikings (2013–2020)',\n",
       " '16. Pretty Little Liars (2010–2017)',\n",
       " '17. The Vampire Diaries (2009–2017)',\n",
       " '18. American Horror Story (2011– )',\n",
       " '19. Breaking Bad (2008–2013)',\n",
       " '20. Lucifer (2016–2021)',\n",
       " '21. Supernatural (2005–2020)',\n",
       " '22. Prison Break (2005–2017)',\n",
       " '23. How to Get Away with Murder (2014–2020)',\n",
       " '24. Teen Wolf (2011–2017)',\n",
       " '25. The Simpsons (1989– )',\n",
       " '26. Once Upon a Time (2011–2018)',\n",
       " '27. Narcos (2015–2017)',\n",
       " '28. Daredevil (2015–2018)',\n",
       " '29. Friends (1994–2004)',\n",
       " '30. How I Met Your Mother (2005–2014)',\n",
       " '31. Suits (2011–2019)',\n",
       " '32. Mr. Robot (2015–2019)',\n",
       " '33. The Originals (2013–2018)',\n",
       " '34. Supergirl (2015–2021)',\n",
       " '35. Gossip Girl (2007–2012)',\n",
       " '36. Sense8 (2015–2018)',\n",
       " '37. Gotham (2014–2019)',\n",
       " '38. Westworld (2016–2022)',\n",
       " '39. Jessica Jones (2015–2019)',\n",
       " '40. Modern Family (2009–2020)',\n",
       " '41. Rick and Morty (2013– )',\n",
       " '42. Shadowhunters (2016–2019)',\n",
       " '43. The End of the F***ing World (2017–2019)',\n",
       " '44. House of Cards (2013–2018)',\n",
       " '45. Dark (2017–2020)',\n",
       " '46. Elite (2018– )',\n",
       " '47. Sex Education (2019– )',\n",
       " '48. Shameless (2011–2021)',\n",
       " '49. New Girl (2011–2018)',\n",
       " '50. Agents of S.H.I.E.L.D. (2013–2020)',\n",
       " '51. You (2018–2024)',\n",
       " '52. Dexter (2006–2013)',\n",
       " '53. Fear the Walking Dead (2015–2023)',\n",
       " '54. Family Guy (1999– )',\n",
       " '55. The Blacklist (2013–2023)',\n",
       " '56. Lost (2004–2010)',\n",
       " '57. Peaky Blinders (2013–2022)',\n",
       " '58. House (2004–2012)',\n",
       " '59. Quantico (2015–2018)',\n",
       " '60. Orphan Black (2013–2017)',\n",
       " '61. Homeland (2011–2020)',\n",
       " '62. Blindspot (2015–2020)',\n",
       " \"63. DC's Legends of Tomorrow (2016–2022)\",\n",
       " \"64. The Handmaid's Tale (2017– )\",\n",
       " '65. Chilling Adventures of Sabrina (2018–2020)',\n",
       " '66. The Good Doctor (2017– )',\n",
       " '67. Jane the Virgin (2014–2019)',\n",
       " '68. Glee (2009–2015)',\n",
       " '69. South Park (1997– )',\n",
       " '70. Brooklyn Nine-Nine (2013–2021)',\n",
       " '71. Under the Dome (2013–2015)',\n",
       " '72. The Umbrella Academy (2019–2023)',\n",
       " '73. True Detective (2014– )',\n",
       " '74. The OA (2016–2019)',\n",
       " '75. Desperate Housewives (2004–2012)',\n",
       " '76. Better Call Saul (2015–2022)',\n",
       " '77. Bates Motel (2013–2017)',\n",
       " '78. The Punisher (2017–2019)',\n",
       " '79. Atypical (2017–2021)',\n",
       " '80. Dynasty (2017–2022)',\n",
       " '81. This Is Us (2016–2022)',\n",
       " '82. The Good Place (2016–2020)',\n",
       " '83. Iron Fist (2017–2018)',\n",
       " '84. The Rain (2018–2020)',\n",
       " '85. Mindhunter (2017–2019)',\n",
       " '86. Revenge (2011–2015)',\n",
       " '87. Luke Cage (2016–2018)',\n",
       " '88. Scandal (2012–2018)',\n",
       " '89. The Defenders (2017– )',\n",
       " '90. Big Little Lies (2017–2019)',\n",
       " '91. Insatiable (2018–2019)',\n",
       " '92. The Mentalist (2008–2015)',\n",
       " '93. The Crown (2016–2023)',\n",
       " '94. Chernobyl (2019)',\n",
       " '95. iZombie (2015–2019)',\n",
       " '96. Reign (2013–2017)',\n",
       " '97. A Series of Unfortunate Events (2017–2019)',\n",
       " '98. Criminal Minds (2005– )',\n",
       " '99. Scream: The TV Series (2015–2019)',\n",
       " '100. The Haunting of Hill House (2018)']"
      ]
     },
     "execution_count": 34,
     "metadata": {},
     "output_type": "execute_result"
    }
   ],
   "source": [
    "name"
   ]
  },
  {
   "cell_type": "markdown",
   "id": "0952eb6c",
   "metadata": {},
   "source": [
    "- name and year span have been scrapped"
   ]
  },
  {
   "cell_type": "code",
   "execution_count": 35,
   "id": "8c8b18bb",
   "metadata": {},
   "outputs": [
    {
     "data": {
      "text/plain": [
       "100"
      ]
     },
     "execution_count": 35,
     "metadata": {},
     "output_type": "execute_result"
    }
   ],
   "source": [
    "genre=[]\n",
    "genre_tags=driver.find_elements(By.XPATH,\"//span[@class='genre']\")\n",
    "for i in genre_tags:\n",
    "    genre.append(i.text)\n",
    "len(genre)"
   ]
  },
  {
   "cell_type": "code",
   "execution_count": 36,
   "id": "9d68a38e",
   "metadata": {},
   "outputs": [
    {
     "data": {
      "text/plain": [
       "['Action, Adventure, Drama',\n",
       " 'Drama, Fantasy, Horror',\n",
       " 'Drama, Horror, Thriller',\n",
       " 'Drama, Mystery, Thriller',\n",
       " 'Drama, Mystery, Sci-Fi',\n",
       " 'Comedy, Crime, Drama',\n",
       " 'Crime, Drama, Mystery',\n",
       " 'Drama, Romance',\n",
       " 'Action, Adventure, Drama',\n",
       " 'Action, Adventure, Crime',\n",
       " 'Action, Crime, Drama',\n",
       " 'Comedy, Romance',\n",
       " 'Drama, Mystery, Sci-Fi',\n",
       " 'Crime, Drama, Mystery',\n",
       " 'Action, Adventure, Drama',\n",
       " 'Drama, Mystery, Romance',\n",
       " 'Drama, Fantasy, Horror',\n",
       " 'Drama, Horror, Sci-Fi',\n",
       " 'Crime, Drama, Thriller',\n",
       " 'Crime, Drama, Fantasy',\n",
       " 'Drama, Fantasy, Horror',\n",
       " 'Action, Crime, Drama',\n",
       " 'Crime, Drama, Mystery',\n",
       " 'Action, Drama, Fantasy',\n",
       " 'Animation, Comedy',\n",
       " 'Adventure, Fantasy, Romance',\n",
       " 'Biography, Crime, Drama',\n",
       " 'Action, Crime, Drama',\n",
       " 'Comedy, Romance',\n",
       " 'Comedy, Drama, Romance',\n",
       " 'Comedy, Drama',\n",
       " 'Crime, Drama, Thriller',\n",
       " 'Drama, Fantasy, Horror',\n",
       " 'Action, Adventure, Drama',\n",
       " 'Drama, Romance',\n",
       " 'Drama, Mystery, Sci-Fi',\n",
       " 'Action, Crime, Drama',\n",
       " 'Drama, Mystery, Sci-Fi',\n",
       " 'Action, Crime, Drama',\n",
       " 'Comedy, Drama, Romance',\n",
       " 'Animation, Adventure, Comedy',\n",
       " 'Action, Drama, Fantasy',\n",
       " 'Adventure, Comedy, Crime',\n",
       " 'Drama',\n",
       " 'Crime, Drama, Mystery',\n",
       " 'Crime, Drama, Thriller',\n",
       " 'Comedy, Drama',\n",
       " 'Comedy, Drama',\n",
       " 'Comedy, Romance',\n",
       " 'Action, Adventure, Drama',\n",
       " 'Crime, Drama, Romance',\n",
       " 'Crime, Drama, Mystery',\n",
       " 'Drama, Horror, Sci-Fi',\n",
       " 'Animation, Comedy',\n",
       " 'Crime, Drama, Mystery',\n",
       " 'Adventure, Drama, Fantasy',\n",
       " 'Crime, Drama',\n",
       " 'Drama, Mystery',\n",
       " 'Crime, Drama, Mystery',\n",
       " 'Drama, Sci-Fi, Thriller',\n",
       " 'Crime, Drama, Mystery',\n",
       " 'Action, Crime, Drama',\n",
       " 'Action, Adventure, Drama',\n",
       " 'Drama, Sci-Fi, Thriller',\n",
       " 'Drama, Fantasy, Horror',\n",
       " 'Drama',\n",
       " 'Comedy',\n",
       " 'Comedy, Drama, Music',\n",
       " 'Animation, Comedy',\n",
       " 'Comedy, Crime',\n",
       " 'Drama, Mystery, Sci-Fi',\n",
       " 'Action, Adventure, Comedy',\n",
       " 'Crime, Drama, Mystery',\n",
       " 'Drama, Fantasy, Mystery',\n",
       " 'Comedy, Drama, Mystery',\n",
       " 'Crime, Drama',\n",
       " 'Drama, Horror, Mystery',\n",
       " 'Action, Crime, Drama',\n",
       " 'Comedy, Drama',\n",
       " 'Drama',\n",
       " 'Comedy, Drama, Romance',\n",
       " 'Comedy, Drama, Fantasy',\n",
       " 'Action, Adventure, Crime',\n",
       " 'Drama, Sci-Fi, Thriller',\n",
       " 'Crime, Drama, Mystery',\n",
       " 'Drama, Mystery, Thriller',\n",
       " 'Action, Crime, Drama',\n",
       " 'Drama, Thriller',\n",
       " 'Action, Adventure, Crime',\n",
       " 'Crime, Drama, Mystery',\n",
       " 'Comedy, Drama, Thriller',\n",
       " 'Crime, Drama, Mystery',\n",
       " 'Biography, Drama, History',\n",
       " 'Drama, History, Thriller',\n",
       " 'Comedy, Crime, Drama',\n",
       " 'Drama',\n",
       " 'Adventure, Comedy, Drama',\n",
       " 'Crime, Drama, Mystery',\n",
       " 'Comedy, Crime, Drama',\n",
       " 'Drama, Horror, Mystery']"
      ]
     },
     "execution_count": 36,
     "metadata": {},
     "output_type": "execute_result"
    }
   ],
   "source": [
    "genre"
   ]
  },
  {
   "cell_type": "code",
   "execution_count": 38,
   "id": "00af0258",
   "metadata": {},
   "outputs": [
    {
     "data": {
      "text/plain": [
       "100"
      ]
     },
     "execution_count": 38,
     "metadata": {},
     "output_type": "execute_result"
    }
   ],
   "source": [
    "runtime=[]\n",
    "runtime_tags=driver.find_elements(By.XPATH,\"//span[@class='runtime']\")\n",
    "for i in runtime_tags:\n",
    "    runtime.append(i.text)\n",
    "len(runtime)"
   ]
  },
  {
   "cell_type": "code",
   "execution_count": 39,
   "id": "ffa5464b",
   "metadata": {},
   "outputs": [
    {
     "data": {
      "text/plain": [
       "['57 min',\n",
       " '51 min',\n",
       " '44 min',\n",
       " '60 min',\n",
       " '43 min',\n",
       " '59 min',\n",
       " '45 min',\n",
       " '41 min',\n",
       " '43 min',\n",
       " '42 min',\n",
       " '70 min',\n",
       " '22 min',\n",
       " '60 min',\n",
       " '88 min',\n",
       " '44 min',\n",
       " '44 min',\n",
       " '43 min',\n",
       " '60 min',\n",
       " '49 min',\n",
       " '42 min',\n",
       " '44 min',\n",
       " '44 min',\n",
       " '43 min',\n",
       " '41 min',\n",
       " '22 min',\n",
       " '60 min',\n",
       " '49 min',\n",
       " '54 min',\n",
       " '22 min',\n",
       " '22 min',\n",
       " '44 min',\n",
       " '49 min',\n",
       " '45 min',\n",
       " '43 min',\n",
       " '42 min',\n",
       " '60 min',\n",
       " '42 min',\n",
       " '62 min',\n",
       " '56 min',\n",
       " '22 min',\n",
       " '23 min',\n",
       " '42 min',\n",
       " '25 min',\n",
       " '51 min',\n",
       " '60 min',\n",
       " '60 min',\n",
       " '45 min',\n",
       " '46 min',\n",
       " '22 min',\n",
       " '45 min',\n",
       " '45 min',\n",
       " '53 min',\n",
       " '44 min',\n",
       " '22 min',\n",
       " '43 min',\n",
       " '44 min',\n",
       " '60 min',\n",
       " '44 min',\n",
       " '42 min',\n",
       " '44 min',\n",
       " '55 min',\n",
       " '42 min',\n",
       " '42 min',\n",
       " '60 min',\n",
       " '60 min',\n",
       " '41 min',\n",
       " '60 min',\n",
       " '44 min',\n",
       " '22 min',\n",
       " '22 min',\n",
       " '43 min',\n",
       " '60 min',\n",
       " '55 min',\n",
       " '60 min',\n",
       " '45 min',\n",
       " '46 min',\n",
       " '45 min',\n",
       " '53 min',\n",
       " '30 min',\n",
       " '42 min',\n",
       " '45 min',\n",
       " '22 min',\n",
       " '55 min',\n",
       " '45 min',\n",
       " '60 min',\n",
       " '44 min',\n",
       " '55 min',\n",
       " '43 min',\n",
       " '50 min',\n",
       " '60 min',\n",
       " '45 min',\n",
       " '43 min',\n",
       " '58 min',\n",
       " '330 min',\n",
       " '42 min',\n",
       " '42 min',\n",
       " '50 min',\n",
       " '42 min',\n",
       " '45 min',\n",
       " '572 min']"
      ]
     },
     "execution_count": 39,
     "metadata": {},
     "output_type": "execute_result"
    }
   ],
   "source": [
    "runtime"
   ]
  },
  {
   "cell_type": "code",
   "execution_count": 41,
   "id": "fd3586ca",
   "metadata": {},
   "outputs": [
    {
     "data": {
      "text/plain": [
       "100"
      ]
     },
     "execution_count": 41,
     "metadata": {},
     "output_type": "execute_result"
    }
   ],
   "source": [
    "rating=[]\n",
    "rating_tags=driver.find_elements(By.XPATH,\"//div[@class='ipl-rating-star small']\")\n",
    "for i in rating_tags:\n",
    "    rating.append(i.text)\n",
    "len(rating)"
   ]
  },
  {
   "cell_type": "code",
   "execution_count": 42,
   "id": "5ce8294e",
   "metadata": {},
   "outputs": [
    {
     "data": {
      "text/plain": [
       "['9.2',\n",
       " '8.7',\n",
       " '8.1',\n",
       " '7.5',\n",
       " '7.6',\n",
       " '8.1',\n",
       " '6.6',\n",
       " '7.6',\n",
       " '7.5',\n",
       " '7.5',\n",
       " '8.2',\n",
       " '8.2',\n",
       " '8.8',\n",
       " '9.1',\n",
       " '8.5',\n",
       " '7.4',\n",
       " '7.7',\n",
       " '8',\n",
       " '9.5',\n",
       " '8.1',\n",
       " '8.4',\n",
       " '8.3',\n",
       " '8.1',\n",
       " '7.7',\n",
       " '8.7',\n",
       " '7.7',\n",
       " '8.8',\n",
       " '8.6',\n",
       " '8.9',\n",
       " '8.3',\n",
       " '8.4',\n",
       " '8.5',\n",
       " '8.3',\n",
       " '6.2',\n",
       " '7.5',\n",
       " '8.2',\n",
       " '7.8',\n",
       " '8.5',\n",
       " '7.9',\n",
       " '8.5',\n",
       " '9.1',\n",
       " '6.5',\n",
       " '8',\n",
       " '8.7',\n",
       " '8.7',\n",
       " '7.3',\n",
       " '8.3',\n",
       " '8.6',\n",
       " '7.8',\n",
       " '7.5',\n",
       " '7.7',\n",
       " '8.7',\n",
       " '6.8',\n",
       " '8.2',\n",
       " '8',\n",
       " '8.3',\n",
       " '8.8',\n",
       " '8.7',\n",
       " '6.7',\n",
       " '8.3',\n",
       " '8.3',\n",
       " '7.3',\n",
       " '6.8',\n",
       " '8.4',\n",
       " '7.4',\n",
       " '8',\n",
       " '7.9',\n",
       " '6.8',\n",
       " '8.7',\n",
       " '8.4',\n",
       " '6.5',\n",
       " '7.9',\n",
       " '8.9',\n",
       " '7.8',\n",
       " '7.6',\n",
       " '9',\n",
       " '8.1',\n",
       " '8.5',\n",
       " '8.2',\n",
       " '7.3',\n",
       " '8.7',\n",
       " '8.2',\n",
       " '6.4',\n",
       " '6.3',\n",
       " '8.6',\n",
       " '7.8',\n",
       " '7.3',\n",
       " '7.7',\n",
       " '7.2',\n",
       " '8.5',\n",
       " '6.5',\n",
       " '8.2',\n",
       " '8.6',\n",
       " '9.4',\n",
       " '7.8',\n",
       " '7.4',\n",
       " '7.8',\n",
       " '8.1',\n",
       " '7.1',\n",
       " '8.6']"
      ]
     },
     "execution_count": 42,
     "metadata": {},
     "output_type": "execute_result"
    }
   ],
   "source": [
    "rating"
   ]
  },
  {
   "cell_type": "code",
   "execution_count": 45,
   "id": "7a50082b",
   "metadata": {},
   "outputs": [
    {
     "data": {
      "text/plain": [
       "300"
      ]
     },
     "execution_count": 45,
     "metadata": {},
     "output_type": "execute_result"
    }
   ],
   "source": [
    "vote=[]\n",
    "vote_tags=driver.find_elements(By.XPATH,\"//p[@class='text-muted text-small']\")\n",
    "for i in vote_tags:\n",
    "    vote.append(i.text)\n",
    "len(vote)"
   ]
  },
  {
   "cell_type": "code",
   "execution_count": 46,
   "id": "586cd14e",
   "metadata": {},
   "outputs": [
    {
     "data": {
      "text/plain": [
       "['TV-MA | 57 min | Action, Adventure, Drama',\n",
       " 'Stars: Emilia Clarke, Peter Dinklage, Kit Harington, Lena Headey',\n",
       " 'Votes: 2,168,593',\n",
       " 'TV-14 | 51 min | Drama, Fantasy, Horror',\n",
       " 'Stars: Millie Bobby Brown, Finn Wolfhard, Winona Ryder, David Harbour',\n",
       " 'Votes: 1,247,287',\n",
       " 'TV-MA | 44 min | Drama, Horror, Thriller',\n",
       " 'Stars: Andrew Lincoln, Norman Reedus, Melissa McBride, Lauren Cohan',\n",
       " 'Votes: 1,030,021',\n",
       " 'TV-MA | 60 min | Drama, Mystery, Thriller',\n",
       " 'Stars: Dylan Minnette, Katherine Langford, Christian Navarro, Alisha Boe',\n",
       " 'Votes: 302,974',\n",
       " 'TV-14 | 43 min | Drama, Mystery, Sci-Fi',\n",
       " 'Stars: Eliza Taylor, Bob Morley, Marie Avgeropoulos, Isaiah Washington',\n",
       " 'Votes: 262,099',\n",
       " 'TV-MA | 59 min | Comedy, Crime, Drama',\n",
       " 'Stars: Taylor Schilling, Danielle Brooks, Taryn Manning, Emma Myles',\n",
       " 'Votes: 310,178',\n",
       " 'TV-14 | 45 min | Crime, Drama, Mystery',\n",
       " 'Stars: Lili Reinhart, Camila Mendes, Cole Sprouse, K.J. Apa',\n",
       " 'Votes: 149,213',\n",
       " 'TV-14 | 41 min | Drama, Romance',\n",
       " 'Stars: Ellen Pompeo, Chandra Wilson, James Pickens Jr., Justin Chambers',\n",
       " 'Votes: 322,893',\n",
       " 'TV-PG | 43 min | Action, Adventure, Drama',\n",
       " 'Stars: Grant Gustin, Candice Patton, Danielle Panabaker, Carlos Valdes',\n",
       " 'Votes: 358,227',\n",
       " 'TV-14 | 42 min | Action, Adventure, Crime',\n",
       " 'Stars: Stephen Amell, Katie Cassidy, David Ramsey, Susanna Thompson',\n",
       " 'Votes: 438,224',\n",
       " 'TV-MA | 70 min | Action, Crime, Drama',\n",
       " 'Stars: Úrsula Corberó, Álvaro Morte, Itziar Ituño, Pedro Alonso',\n",
       " 'Votes: 497,482',\n",
       " 'TV-PG | 22 min | Comedy, Romance',\n",
       " 'Stars: Johnny Galecki, Jim Parsons, Kaley Cuoco, Simon Helberg',\n",
       " 'Votes: 830,614',\n",
       " 'TV-MA | 60 min | Drama, Mystery, Sci-Fi',\n",
       " 'Stars: Daniel Lapaine, Hannah John-Kamen, Michaela Coel, Beatrice Robertson-Jones',\n",
       " 'Votes: 576,105',\n",
       " 'TV-14 | 88 min | Crime, Drama, Mystery',\n",
       " 'Stars: Benedict Cumberbatch, Martin Freeman, Una Stubbs, Rupert Graves',\n",
       " 'Votes: 952,697',\n",
       " 'TV-MA | 44 min | Action, Adventure, Drama',\n",
       " 'Stars: Katheryn Winnick, Gustaf Skarsgård, Alexander Ludwig, Georgia Hirst',\n",
       " 'Votes: 552,922',\n",
       " 'TV-14 | 44 min | Drama, Mystery, Romance',\n",
       " 'Stars: Troian Bellisario, Ashley Benson, Lucy Hale, Shay Mitchell',\n",
       " 'Votes: 172,271',\n",
       " 'TV-14 | 43 min | Drama, Fantasy, Horror',\n",
       " 'Stars: Nina Dobrev, Paul Wesley, Ian Somerhalder, Kat Graham',\n",
       " 'Votes: 332,095',\n",
       " 'TV-MA | 60 min | Drama, Horror, Sci-Fi',\n",
       " 'Stars: Lady Gaga, Kathy Bates, Angela Bassett, Sarah Paulson',\n",
       " 'Votes: 327,748',\n",
       " 'TV-MA | 49 min | Crime, Drama, Thriller',\n",
       " 'Stars: Bryan Cranston, Aaron Paul, Anna Gunn, Betsy Brandt',\n",
       " 'Votes: 1,985,772',\n",
       " 'TV-14 | 42 min | Crime, Drama, Fantasy',\n",
       " 'Stars: Tom Ellis, Lauren German, Kevin Alejandro, D.B. Woodside',\n",
       " 'Votes: 337,140',\n",
       " 'TV-14 | 44 min | Drama, Fantasy, Horror',\n",
       " 'Stars: Jared Padalecki, Jensen Ackles, Jim Beaver, Misha Collins',\n",
       " 'Votes: 459,910',\n",
       " 'TV-14 | 44 min | Action, Crime, Drama',\n",
       " 'Stars: Dominic Purcell, Wentworth Miller, Amaury Nolasco, Robert Knepper',\n",
       " 'Votes: 553,008',\n",
       " 'TV-14 | 43 min | Crime, Drama, Mystery',\n",
       " 'Stars: Viola Davis, Billy Brown, Jack Falahee, Aja Naomi King',\n",
       " 'Votes: 158,016',\n",
       " 'TV-14 | 41 min | Action, Drama, Fantasy',\n",
       " \"Stars: Tyler Posey, Holland Roden, Dylan O'Brien, Linden Ashby\",\n",
       " 'Votes: 156,203',\n",
       " 'TV-14 | 22 min | Animation, Comedy',\n",
       " 'Stars: Dan Castellaneta, Nancy Cartwright, Harry Shearer, Julie Kavner',\n",
       " 'Votes: 418,701',\n",
       " 'TV-PG | 60 min | Adventure, Fantasy, Romance',\n",
       " 'Stars: Ginnifer Goodwin, Jennifer Morrison, Lana Parrilla, Robert Carlyle',\n",
       " 'Votes: 229,803',\n",
       " 'TV-MA | 49 min | Biography, Crime, Drama',\n",
       " 'Stars: Pedro Pascal, Wagner Moura, Boyd Holbrook, Alberto Ammann',\n",
       " 'Votes: 443,365',\n",
       " 'TV-MA | 54 min | Action, Crime, Drama',\n",
       " \"Stars: Charlie Cox, Vincent D'Onofrio, Deborah Ann Woll, Elden Henson\",\n",
       " 'Votes: 454,116',\n",
       " 'TV-14 | 22 min | Comedy, Romance',\n",
       " 'Stars: Jennifer Aniston, Courteney Cox, Lisa Kudrow, Matt LeBlanc',\n",
       " 'Votes: 1,028,873',\n",
       " 'TV-14 | 22 min | Comedy, Drama, Romance',\n",
       " 'Stars: Josh Radnor, Jason Segel, Cobie Smulders, Neil Patrick Harris',\n",
       " 'Votes: 702,101',\n",
       " 'TV-14 | 44 min | Comedy, Drama',\n",
       " 'Stars: Gabriel Macht, Patrick J. Adams, Meghan Markle, Sarah Rafferty',\n",
       " 'Votes: 426,830',\n",
       " 'TV-MA | 49 min | Crime, Drama, Thriller',\n",
       " 'Stars: Rami Malek, Christian Slater, Carly Chaikin, Martin Wallström',\n",
       " 'Votes: 399,525',\n",
       " 'TV-14 | 45 min | Drama, Fantasy, Horror',\n",
       " 'Stars: Joseph Morgan, Daniel Gillies, Claire Holt, Phoebe Tonkin',\n",
       " 'Votes: 141,067',\n",
       " 'TV-PG | 43 min | Action, Adventure, Drama',\n",
       " 'Stars: Melissa Benoist, Chyler Leigh, David Harewood, Katie McGrath',\n",
       " 'Votes: 126,799',\n",
       " 'TV-14 | 42 min | Drama, Romance',\n",
       " 'Stars: Blake Lively, Leighton Meester, Penn Badgley, Ed Westwick',\n",
       " 'Votes: 181,382',\n",
       " 'TV-MA | 60 min | Drama, Mystery, Sci-Fi',\n",
       " 'Stars: Bae Doona, Jamie Clayton, Tina Desai, Tuppence Middleton',\n",
       " 'Votes: 158,210',\n",
       " 'TV-14 | 42 min | Action, Crime, Drama',\n",
       " 'Stars: Ben McKenzie, Jada Pinkett Smith, Donal Logue, Camren Bicondova',\n",
       " 'Votes: 235,235',\n",
       " 'TV-MA | 62 min | Drama, Mystery, Sci-Fi',\n",
       " 'Stars: Evan Rachel Wood, Jeffrey Wright, Ed Harris, Thandiwe Newton',\n",
       " 'Votes: 516,403',\n",
       " 'TV-MA | 56 min | Action, Crime, Drama',\n",
       " 'Stars: Krysten Ritter, Rachael Taylor, Eka Darville, Carrie-Anne Moss',\n",
       " 'Votes: 219,823',\n",
       " 'TV-PG | 22 min | Comedy, Drama, Romance',\n",
       " \"Stars: Ed O'Neill, Sofía Vergara, Julie Bowen, Ty Burrell\",\n",
       " 'Votes: 451,902',\n",
       " 'TV-MA | 23 min | Animation, Adventure, Comedy',\n",
       " 'Stars: Justin Roiland, Chris Parnell, Spencer Grammer, Sarah Chalke',\n",
       " 'Votes: 553,854',\n",
       " 'TV-14 | 42 min | Action, Drama, Fantasy',\n",
       " 'Stars: Katherine McNamara, Dominic Sherwood, Alberto Rosende, Matthew Daddario',\n",
       " 'Votes: 66,749',\n",
       " 'TV-MA | 25 min | Adventure, Comedy, Crime',\n",
       " 'Stars: Jessica Barden, Alex Lawther, Steve Oram, Christine Bottomley',\n",
       " 'Votes: 203,529',\n",
       " 'TV-MA | 51 min | Drama',\n",
       " 'Stars: Kevin Spacey, Michel Gill, Robin Wright, Kate Mara',\n",
       " 'Votes: 515,423',\n",
       " 'TV-MA | 60 min | Crime, Drama, Mystery',\n",
       " 'Stars: Louis Hofmann, Karoline Eichhorn, Lisa Vicari, Maja Schöne',\n",
       " 'Votes: 410,487',\n",
       " 'TV-MA | 60 min | Crime, Drama, Thriller',\n",
       " 'Stars: Omar Ayuso, Itzan Escamilla, Miguel Bernardeau, Arón Piper',\n",
       " 'Votes: 84,473',\n",
       " 'TV-MA | 45 min | Comedy, Drama',\n",
       " 'Stars: Asa Butterfield, Gillian Anderson, Ncuti Gatwa, Emma Mackey',\n",
       " 'Votes: 301,528',\n",
       " 'TV-MA | 46 min | Comedy, Drama',\n",
       " 'Stars: Emmy Rossum, William H. Macy, Ethan Cutkosky, Jeremy Allen White',\n",
       " 'Votes: 256,286',\n",
       " 'TV-14 | 22 min | Comedy, Romance',\n",
       " 'Stars: Zooey Deschanel, Jake Johnson, Max Greenfield, Hannah Simone',\n",
       " 'Votes: 234,168',\n",
       " 'TV-PG | 45 min | Action, Adventure, Drama',\n",
       " 'Stars: Clark Gregg, Ming-Na Wen, Brett Dalton, Iain De Caestecker',\n",
       " 'Votes: 220,961',\n",
       " 'TV-MA | 45 min | Crime, Drama, Romance',\n",
       " 'Stars: Penn Badgley, Victoria Pedretti, Tati Gabrielle, Ambyr Childers',\n",
       " 'Votes: 279,587',\n",
       " 'TV-MA | 53 min | Crime, Drama, Mystery',\n",
       " 'Stars: Michael C. Hall, Jennifer Carpenter, David Zayas, James Remar',\n",
       " 'Votes: 739,774',\n",
       " 'TV-MA | 44 min | Drama, Horror, Sci-Fi',\n",
       " 'Stars: Kim Dickens, Frank Dillane, Cliff Curtis, Rubén Blades',\n",
       " 'Votes: 135,410',\n",
       " 'TV-MA | 22 min | Animation, Comedy',\n",
       " 'Stars: Seth MacFarlane, Alex Borstein, Seth Green, Mila Kunis',\n",
       " 'Votes: 351,187',\n",
       " 'TV-14 | 43 min | Crime, Drama, Mystery',\n",
       " 'Stars: James Spader, Megan Boone, Diego Klattenhoff, Ryan Eggold',\n",
       " 'Votes: 263,414',\n",
       " 'TV-14 | 44 min | Adventure, Drama, Fantasy',\n",
       " 'Stars: Jorge Garcia, Josh Holloway, Yunjin Kim, Evangeline Lilly',\n",
       " 'Votes: 569,280',\n",
       " 'TV-MA | 60 min | Crime, Drama',\n",
       " 'Stars: Cillian Murphy, Paul Anderson, Sophie Rundle, Helen McCrory',\n",
       " 'Votes: 583,932',\n",
       " 'TV-14 | 44 min | Drama, Mystery',\n",
       " 'Stars: Hugh Laurie, Omar Epps, Robert Sean Leonard, Jesse Spencer',\n",
       " 'Votes: 480,988',\n",
       " 'TV-14 | 42 min | Crime, Drama, Mystery',\n",
       " 'Stars: Priyanka Chopra Jonas, Jake McLaughlin, Johanna Braddy, Aunjanue Ellis-Taylor',\n",
       " 'Votes: 62,365',\n",
       " 'TV-MA | 44 min | Drama, Sci-Fi, Thriller',\n",
       " 'Stars: Tatiana Maslany, Dylan Bruce, Jordan Gavaris, Kevin Hanchard',\n",
       " 'Votes: 113,566',\n",
       " 'TV-MA | 55 min | Crime, Drama, Mystery',\n",
       " 'Stars: Claire Danes, Mandy Patinkin, Damian Lewis, Rupert Friend',\n",
       " 'Votes: 350,043',\n",
       " 'TV-14 | 42 min | Action, Crime, Drama',\n",
       " 'Stars: Sullivan Stapleton, Jaimie Alexander, Audrey Esparza, Ashley Johnson',\n",
       " 'Votes: 76,462',\n",
       " 'TV-14 | 42 min | Action, Adventure, Drama',\n",
       " 'Stars: Caity Lotz, Amy Louise Pemberton, Dominic Purcell, Nick Zano',\n",
       " 'Votes: 107,528',\n",
       " 'TV-MA | 60 min | Drama, Sci-Fi, Thriller',\n",
       " 'Stars: Elisabeth Moss, Yvonne Strahovski, Ann Dowd, O-T Fagbenle',\n",
       " 'Votes: 247,289',\n",
       " 'TV-14 | 60 min | Drama, Fantasy, Horror',\n",
       " 'Stars: Kiernan Shipka, Ross Lynch, Lucy Davis, Chance Perdomo',\n",
       " 'Votes: 101,113',\n",
       " 'TV-14 | 41 min | Drama',\n",
       " 'Stars: Freddie Highmore, Hill Harper, Richard Schiff, Christina Chang',\n",
       " 'Votes: 103,415',\n",
       " 'TV-PG | 60 min | Comedy',\n",
       " 'Stars: Gina Rodriguez, Andrea Navedo, Yael Grobglas, Justin Baldoni',\n",
       " 'Votes: 54,536',\n",
       " 'TV-PG | 44 min | Comedy, Drama, Music',\n",
       " 'Stars: Lea Michele, Jane Lynch, Matthew Morrison, Cory Monteith',\n",
       " 'Votes: 151,787',\n",
       " 'TV-14 | 22 min | Animation, Comedy',\n",
       " 'Stars: Trey Parker, Matt Stone, Isaac Hayes, Mona Marshall',\n",
       " 'Votes: 389,166',\n",
       " 'TV-14 | 22 min | Comedy, Crime',\n",
       " 'Stars: Andy Samberg, Stephanie Beatriz, Terry Crews, Melissa Fumero',\n",
       " 'Votes: 334,066',\n",
       " 'TV-14 | 43 min | Drama, Mystery, Sci-Fi',\n",
       " 'Stars: Mike Vogel, Rachelle Lefevre, Alexander Koch, Colin Ford',\n",
       " 'Votes: 109,271',\n",
       " 'TV-14 | 60 min | Action, Adventure, Comedy',\n",
       " 'Stars: Elliot Page, Aidan Gallagher, Tom Hopper, David Castañeda',\n",
       " 'Votes: 258,604',\n",
       " 'TV-MA | 55 min | Crime, Drama, Mystery',\n",
       " 'Stars: Vince Vaughn, Colin Farrell, Rachel McAdams, Taylor Kitsch',\n",
       " 'Votes: 596,811',\n",
       " 'TV-MA | 60 min | Drama, Fantasy, Mystery',\n",
       " 'Stars: Brit Marling, Jason Isaacs, Scott Wilson, Alice Krige',\n",
       " 'Votes: 108,880',\n",
       " 'TV-14 | 45 min | Comedy, Drama, Mystery',\n",
       " 'Stars: Teri Hatcher, Felicity Huffman, Marcia Cross, Eva Longoria',\n",
       " 'Votes: 133,252',\n",
       " 'TV-MA | 46 min | Crime, Drama',\n",
       " 'Stars: Bob Odenkirk, Rhea Seehorn, Jonathan Banks, Patrick Fabian',\n",
       " 'Votes: 580,124',\n",
       " 'TV-MA | 45 min | Drama, Horror, Mystery',\n",
       " 'Stars: Vera Farmiga, Freddie Highmore, Max Thieriot, Nicola Peltz Beckham',\n",
       " 'Votes: 111,946',\n",
       " 'TV-MA | 53 min | Action, Crime, Drama',\n",
       " 'Stars: Jon Bernthal, Amber Rose Revah, Ben Barnes, Jason R. Moore',\n",
       " 'Votes: 248,386',\n",
       " 'TV-MA | 30 min | Comedy, Drama',\n",
       " 'Stars: Jennifer Jason Leigh, Keir Gilchrist, Brigette Lundy-Paine, Michael Rapaport',\n",
       " 'Votes: 96,007',\n",
       " 'TV-14 | 42 min | Drama',\n",
       " 'Stars: Elizabeth Gillies, Rafael de la Fuente, Robert Christopher Riley, Sam Adegoke',\n",
       " 'Votes: 23,791',\n",
       " 'TV-14 | 45 min | Comedy, Drama, Romance',\n",
       " 'Stars: Milo Ventimiglia, Mandy Moore, Sterling K. Brown, Chrissy Metz',\n",
       " 'Votes: 149,989',\n",
       " 'TV-PG | 22 min | Comedy, Drama, Fantasy',\n",
       " \"Stars: Kristen Bell, William Jackson Harper, Jameela Jamil, D'Arcy Carden\",\n",
       " 'Votes: 172,752',\n",
       " 'TV-MA | 55 min | Action, Adventure, Crime',\n",
       " 'Stars: Finn Jones, Jessica Henwick, Jessica Stroup, Tom Pelphrey',\n",
       " 'Votes: 135,088',\n",
       " 'TV-MA | 45 min | Drama, Sci-Fi, Thriller',\n",
       " 'Stars: Alba August, Lucas Lynggaard Tønnesen, Mikkel Boe Følsgaard, Lukas Løkken',\n",
       " 'Votes: 39,294',\n",
       " 'TV-MA | 60 min | Crime, Drama, Mystery',\n",
       " 'Stars: Jonathan Groff, Holt McCallany, Anna Torv, Hannah Gross',\n",
       " 'Votes: 307,048',\n",
       " 'TV-14 | 44 min | Drama, Mystery, Thriller',\n",
       " 'Stars: Madeleine Stowe, Emily VanCamp, Gabriel Mann, Nick Wechsler',\n",
       " 'Votes: 122,239',\n",
       " 'TV-MA | 55 min | Action, Crime, Drama',\n",
       " 'Stars: Mike Colter, Simone Missick, Theo Rossi, Alfre Woodard',\n",
       " 'Votes: 135,108',\n",
       " 'TV-14 | 43 min | Drama, Thriller',\n",
       " 'Stars: Kerry Washington, Darby Stanchfield, Katie Lowes, Guillermo Diaz',\n",
       " 'Votes: 76,748',\n",
       " 'TV-MA | 50 min | Action, Adventure, Crime',\n",
       " 'Stars: Charlie Cox, Krysten Ritter, Mike Colter, Finn Jones',\n",
       " 'Votes: 111,924',\n",
       " 'TV-MA | 60 min | Crime, Drama, Mystery',\n",
       " 'Stars: Reese Witherspoon, Nicole Kidman, Shailene Woodley, Zoë Kravitz',\n",
       " 'Votes: 210,725',\n",
       " 'TV-MA | 45 min | Comedy, Drama, Thriller',\n",
       " 'Stars: Dallas Roberts, Debby Ryan, Christopher Gorham, Kimmy Shields',\n",
       " 'Votes: 30,627',\n",
       " 'TV-14 | 43 min | Crime, Drama, Mystery',\n",
       " 'Stars: Simon Baker, Robin Tunney, Tim Kang, Owain Yeoman',\n",
       " 'Votes: 191,400',\n",
       " 'TV-MA | 58 min | Biography, Drama, History',\n",
       " 'Stars: Claire Foy, Olivia Colman, Imelda Staunton, Matt Smith',\n",
       " 'Votes: 230,737',\n",
       " 'TV-MA | 330 min | Drama, History, Thriller',\n",
       " 'Stars: Jessie Buckley, Jared Harris, Stellan Skarsgård, Adam Nagaitis',\n",
       " 'Votes: 800,356',\n",
       " 'TV-14 | 42 min | Comedy, Crime, Drama',\n",
       " 'Stars: Rose McIver, Malcolm Goodwin, Rahul Kohli, Robert Buckley',\n",
       " 'Votes: 71,146',\n",
       " 'TV-14 | 42 min | Drama',\n",
       " 'Stars: Adelaide Kane, Megan Follows, Celina Sinden, Torrance Coombs',\n",
       " 'Votes: 51,849',\n",
       " 'TV-PG | 50 min | Adventure, Comedy, Drama',\n",
       " 'Stars: Neil Patrick Harris, Patrick Warburton, Malina Pauli Weissman, Louis Hynes',\n",
       " 'Votes: 63,872',\n",
       " 'TV-14 | 42 min | Crime, Drama, Mystery',\n",
       " 'Stars: Kirsten Vangsness, Matthew Gray Gubler, A.J. Cook, Joe Mantegna',\n",
       " 'Votes: 208,134',\n",
       " 'TV-14 | 45 min | Comedy, Crime, Drama',\n",
       " 'Stars: Willa Fitzgerald, Bex Taylor-Klaus, John Karna, Carlson Young',\n",
       " 'Votes: 43,315',\n",
       " 'TV-MA | 572 min | Drama, Horror, Mystery',\n",
       " 'Stars: Michiel Huisman, Carla Gugino, Henry Thomas, Elizabeth Reaser',\n",
       " 'Votes: 259,339']"
      ]
     },
     "execution_count": 46,
     "metadata": {},
     "output_type": "execute_result"
    }
   ],
   "source": [
    "vote"
   ]
  },
  {
   "cell_type": "markdown",
   "id": "8586338b",
   "metadata": {},
   "source": [
    "# Details of Datasets from UCI machine learning repositories"
   ]
  },
  {
   "cell_type": "code",
   "execution_count": 47,
   "id": "ab36ca11",
   "metadata": {},
   "outputs": [],
   "source": [
    "driver=webdriver.Chrome(r'C:\\Users\\Admin\\Downloads\\chromedriver_win32 (1)\\chromedriver.exe')"
   ]
  },
  {
   "cell_type": "code",
   "execution_count": 48,
   "id": "d31f33c5",
   "metadata": {},
   "outputs": [],
   "source": [
    "driver.maximize_window()"
   ]
  },
  {
   "cell_type": "code",
   "execution_count": 49,
   "id": "3dc32514",
   "metadata": {},
   "outputs": [],
   "source": [
    "url='https://archive.ics.uci.edu/'\n",
    "driver.get(url)"
   ]
  },
  {
   "cell_type": "code",
   "execution_count": 50,
   "id": "a3ac46f8",
   "metadata": {},
   "outputs": [
    {
     "data": {
      "text/plain": [
       "12"
      ]
     },
     "execution_count": 50,
     "metadata": {},
     "output_type": "execute_result"
    }
   ],
   "source": [
    "datasetname=[]\n",
    "datasetname_tags=driver.find_elements(By.XPATH,\"//a[@class='link-hover link text-xl font-semibold']\")\n",
    "for i in datasetname_tags:\n",
    "    datasetname.append(i.text)\n",
    "len(datasetname)"
   ]
  },
  {
   "cell_type": "code",
   "execution_count": 52,
   "id": "2424a3c7",
   "metadata": {},
   "outputs": [
    {
     "data": {
      "text/plain": [
       "['Iris',\n",
       " 'Heart Disease',\n",
       " 'Dry Bean Dataset',\n",
       " 'Adult',\n",
       " 'Diabetes',\n",
       " 'Rice (Cammeo and Osmancik)',\n",
       " 'MetroPT-3 Dataset',\n",
       " 'HAR70+',\n",
       " 'HARTH',\n",
       " 'DeFungi',\n",
       " 'NASA Flood Extent Detection',\n",
       " 'Turkish User Review Dataset']"
      ]
     },
     "execution_count": 52,
     "metadata": {},
     "output_type": "execute_result"
    }
   ],
   "source": [
    "datasetname"
   ]
  },
  {
   "cell_type": "code",
   "execution_count": 59,
   "id": "d77b422b",
   "metadata": {},
   "outputs": [
    {
     "data": {
      "text/plain": [
       "31"
      ]
     },
     "execution_count": 59,
     "metadata": {},
     "output_type": "execute_result"
    }
   ],
   "source": [
    "datatype_instances_attribute=[]\n",
    "datatype_instances_attribute_tags=driver.find_elements(By.XPATH,\"//div[@class='col-span-3 flex items-center gap-2']\")\n",
    "for i in datatype_instances_attribute_tags:\n",
    "    datatype_instances_attribute.append(i.text)\n",
    "len(datatype_instances_attribute)"
   ]
  },
  {
   "cell_type": "code",
   "execution_count": 60,
   "id": "1a580c3f",
   "metadata": {},
   "outputs": [
    {
     "data": {
      "text/plain": [
       "['Classification',\n",
       " '150 Instances',\n",
       " '4 Attributes',\n",
       " 'Classification',\n",
       " '303 Instances',\n",
       " '13 Attributes',\n",
       " 'Classification',\n",
       " '13.61K Instances',\n",
       " '17 Attributes',\n",
       " 'Classification',\n",
       " '48.84K Instances',\n",
       " '14 Attributes',\n",
       " '20 Attributes',\n",
       " 'Classification',\n",
       " '3.81K Instances',\n",
       " '8 Attributes',\n",
       " 'Classification',\n",
       " '1.52M Instances',\n",
       " '15 Attributes',\n",
       " 'Classification',\n",
       " '2.26M Instances',\n",
       " '6 Attributes',\n",
       " 'Classification',\n",
       " '6.46M Instances',\n",
       " '8 Attributes',\n",
       " 'Classification',\n",
       " '9.11K Instances',\n",
       " 'Other',\n",
       " '50K Instances',\n",
       " 'Other',\n",
       " '37.06K Instances']"
      ]
     },
     "execution_count": 60,
     "metadata": {},
     "output_type": "execute_result"
    }
   ],
   "source": [
    "datatype"
   ]
  },
  {
   "cell_type": "code",
   "execution_count": 57,
   "id": "7e063c2f",
   "metadata": {},
   "outputs": [
    {
     "data": {
      "text/plain": [
       "12"
      ]
     },
     "execution_count": 57,
     "metadata": {},
     "output_type": "execute_result"
    }
   ],
   "source": [
    "task=[]\n",
    "task_tags=driver.find_elements(By.XPATH,\"//p[@class='truncate']\")\n",
    "for i in task_tags:\n",
    "    task.append(i.text)\n",
    "len(task)"
   ]
  },
  {
   "cell_type": "code",
   "execution_count": 58,
   "id": "7669bbc3",
   "metadata": {
    "scrolled": true
   },
   "outputs": [
    {
     "data": {
      "text/plain": [
       "['A small classic dataset from Fisher, 1936. One of the earliest datasets used for evaluation of classification methodologies.',\n",
       " '4 databases: Cleveland, Hungary, Switzerland, and the VA Long Beach',\n",
       " 'Images of 13,611 grains of 7 different registered dry beans were taken with a high-resolution camera. A total of 16 features; 12 dimensions and 4 shape forms, were obtained from the grains.',\n",
       " 'Predict whether income exceeds $50K/yr based on census data. Also known as \"Census Income\" dataset.',\n",
       " \"This diabetes dataset is from AIM '94\",\n",
       " \"A total of 3810 rice grain's images were taken for the two species, processed and feature inferences were made. 7 morphological features were obtained for each grain of rice.\",\n",
       " \"From a metro train in an operational context, readings from pressure, temperature, motor current, and air intake valves were collected from a compressor's Air Production Unit (APU). This dataset reveals real predictive maintenance challenges encountered in the industry. It can be used for failure predictions, anomaly explanations, and other tasks.\",\n",
       " 'The Human Activity Recognition 70+ (HAR70+) dataset is a professionally-annotated dataset containing 18 fit-to-frail older-adult subjects (70-95 years old) wearing two 3-axial accelerometers for around 40 minutes during a semi-structured free-living protocol. The sensors were attached to the right thigh and lower back.',\n",
       " 'The Human Activity Recognition Trondheim (HARTH) dataset is a professionally-annotated dataset containing 22 subjects wearing two 3-axial accelerometers for around 2 hours in a free-living setting. The sensors were attached to the right thigh and lower back. The professional recordings and annotations provide a promising benchmark dataset for researchers to develop innovative machine learning approaches for precise HAR in free living.',\n",
       " 'DeFungi is a dataset for direct mycological examination of microscopic fungi images. The images are from superficial fungal infections caused by yeasts, moulds, or dermatophyte fungi. The images have been manually labelled into five classes and curated with a subject matter expert assistance. The images have been cropped with automated algorithms to produce the final dataset.',\n",
       " 'This dataset contains synthetic aperture radar (SAR) raster imagery for various flood events acquired from the European Space Agencys Sentinel-1A and Sentinel-1B missions, providing C-Band dual-polarized imagery that spans geographical areas of interest in the United States and Bangladesh. The main emphasis was on the labeling of open water areas where specular reflection of the radar signal off of the relatively still, flat open water surface results in reduced backscatter, low amplitude, and an overall darkened appearance within the image. The labels for the water surface reflectance are also provided in GeoTiff rasterized file format in scenes aligned with the SAR source raster imagery.',\n",
       " 'This dataset contains Turkish comments made by customers on products (computer, tea machine, head phones, modem, parfume, mobile phone, TV, usb)sold on a website. This dataset created by Asst. Prof. Dr. Ekin Ekinci and Prof. Sevinç İlhan Omurca. Please refer to the study \"An alternative word embedding approach for knowledge representation in online consumers’ reviews\" when using this dataset.']"
      ]
     },
     "execution_count": 58,
     "metadata": {},
     "output_type": "execute_result"
    }
   ],
   "source": [
    "task"
   ]
  },
  {
   "cell_type": "code",
   "execution_count": 61,
   "id": "6bc3ba79",
   "metadata": {},
   "outputs": [
    {
     "data": {
      "text/plain": [
       "2"
      ]
     },
     "execution_count": 61,
     "metadata": {},
     "output_type": "execute_result"
    }
   ],
   "source": [
    "attribute_type=[]\n",
    "attribute_type_tags=driver.find_elements(By.XPATH,\"//div[@class='grid grid-cols-8 overflow-x-auto']\")\n",
    "for i in attribute_type_tags:\n",
    "    attribute_type.append(i.text)\n",
    "len(attribute_type)"
   ]
  },
  {
   "cell_type": "code",
   "execution_count": 62,
   "id": "c5ece4ed",
   "metadata": {},
   "outputs": [
    {
     "data": {
      "text/plain": [
       "['Subject Area\\nAttribute Type\\nDate Donated\\nViews\\nLife Science Real 6/30/1988 203.94K',\n",
       " 'Subject Area\\nAttribute Type\\nDate Donated\\nViews\\nLife Categorical, Integer, Real 6/30/1988 152.69K']"
      ]
     },
     "execution_count": 62,
     "metadata": {},
     "output_type": "execute_result"
    }
   ],
   "source": [
    "attribute_type"
   ]
  },
  {
   "cell_type": "code",
   "execution_count": null,
   "id": "075ce7de",
   "metadata": {},
   "outputs": [],
   "source": []
  }
 ],
 "metadata": {
  "kernelspec": {
   "display_name": "Python 3 (ipykernel)",
   "language": "python",
   "name": "python3"
  },
  "language_info": {
   "codemirror_mode": {
    "name": "ipython",
    "version": 3
   },
   "file_extension": ".py",
   "mimetype": "text/x-python",
   "name": "python",
   "nbconvert_exporter": "python",
   "pygments_lexer": "ipython3",
   "version": "3.9.13"
  }
 },
 "nbformat": 4,
 "nbformat_minor": 5
}
